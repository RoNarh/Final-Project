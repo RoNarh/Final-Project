{
 "cells": [
  {
   "cell_type": "markdown",
   "id": "ca94c081",
   "metadata": {},
   "source": [
    "Installing Libraries"
   ]
  },
  {
   "cell_type": "code",
   "execution_count": 2,
   "id": "5a8290c6",
   "metadata": {},
   "outputs": [],
   "source": [
    "library(rcompanion)\n",
    "library(\"IDPmisc\")\n",
    "library(readxl)\n",
    "library('gmodels')\n",
    "library('dplyr')\n",
    "library(tidyverse)\n",
    "library(car)\n",
    "library(gapminder)\n",
    "library(Ecdat)\n",
    "library(ggplot2) \n",
    "library(reshape2)\n",
    "library(tidyr)\n",
    "library(caret)\n",
    "library(predictmeans)"
   ]
  },
  {
   "cell_type": "markdown",
   "id": "6363e84b",
   "metadata": {},
   "source": [
    "Installing Dataset"
   ]
  },
  {
   "cell_type": "code",
   "execution_count": 3,
   "id": "8a405a36",
   "metadata": {},
   "outputs": [
    {
     "name": "stderr",
     "output_type": "stream",
     "text": [
      "\u001b[1mRows: \u001b[22m\u001b[34m804\u001b[39m \u001b[1mColumns: \u001b[22m\u001b[34m171\u001b[39m\n",
      "\u001b[36m──\u001b[39m \u001b[1mColumn specification\u001b[22m \u001b[36m────────────────────────────────────────────────────────────────────────────────────────────────\u001b[39m\n",
      "\u001b[1mDelimiter:\u001b[22m \",\"\n",
      "\u001b[31mchr\u001b[39m  (79): list.deliveryLabel, list.distanceLabel, list.unlimitedMileageBadg...\n",
      "\u001b[32mdbl\u001b[39m  (48): list.distance, list.rating, list.renterTripsTaken, list.reviewCou...\n",
      "\u001b[33mlgl\u001b[39m  (40): list.freeDeliveryPromotion, list.fuelType, list.instantBookDispla...\n",
      "\u001b[34mtime\u001b[39m  (4): pickupWindow.end.localTime, pickupWindow.start.localTime, returnW...\n",
      "\n",
      "\u001b[36mℹ\u001b[39m Use `spec()` to retrieve the full column specification for this data.\n",
      "\u001b[36mℹ\u001b[39m Specify the column types or set `show_col_types = FALSE` to quiet this message.\n"
     ]
    }
   ],
   "source": [
    "Turo <- read_csv(\"C://Users//renee//Desktop//Entity//10-DSO110-Final Project//Turo.csv\")"
   ]
  },
  {
   "cell_type": "markdown",
   "id": "149e1961",
   "metadata": {},
   "source": [
    "Looking at the Names of the Columns in the Dataset"
   ]
  },
  {
   "cell_type": "code",
   "execution_count": 4,
   "id": "08a1d24c",
   "metadata": {},
   "outputs": [
    {
     "data": {
      "text/html": [
       "<style>\n",
       ".list-inline {list-style: none; margin:0; padding: 0}\n",
       ".list-inline>li {display: inline-block}\n",
       ".list-inline>li:not(:last-child)::after {content: \"\\00b7\"; padding: 0 .5ex}\n",
       "</style>\n",
       "<ol class=list-inline><li>'list.deliveryLabel'</li><li>'list.distance'</li><li>'list.distanceLabel'</li><li>'list.freeDeliveryPromotion'</li><li>'list.fuelType'</li><li>'list.instantBookDisplayed'</li><li>'list.newListing'</li><li>'list.rating'</li><li>'list.rentableFromSearchedAirport'</li><li>'list.renterTripsTaken'</li><li>'list.responseRate'</li><li>'list.responseTime'</li><li>'list.reviewCount'</li><li>'list.turoGo'</li><li>'list.unlimitedMileageBadge'</li><li>'list.vehicleFavoritedBySearcher'</li><li>'list.vehicleRentedBySearcher'</li><li>'list.distanceWithUnit.scalar'</li><li>'list.distanceWithUnit.unit'</li><li>'list.distanceWithUnit.unlimited'</li><li>'list.location.address'</li><li>'list.location.city'</li><li>'list.location.country'</li><li>'list.location.latitude'</li><li>'list.location.locationSource'</li><li>'list.location.longitude'</li><li>'list.location.state'</li><li>'list.location.timeZone'</li><li>'list.location.precision.accuracy'</li><li>'list.location.precision.level'</li><li>'list.location.addressLines[0]'</li><li>'list.owner.id'</li><li>'list.owner.name'</li><li>'list.owner.allStarHost'</li><li>'list.owner.firstName'</li><li>'list.owner.lastName'</li><li>'list.owner.url'</li><li>'list.owner.image.id'</li><li>'list.owner.image.originalImageUrl'</li><li>'list.owner.image.placeholder'</li><li>'list.owner.image.resizableUrlTemplate'</li><li>'list.owner.image.verified'</li><li>'list.owner.image.thumbnails.84x84'</li><li>'list.owner.image.thumbnails.300x300'</li><li>'list.owner.image.thumbnails.225x225'</li><li>'list.owner.image.thumbnails.32x32'</li><li>'list.rate.averageDailyPrice'</li><li>'list.rate.daily'</li><li>'list.rate.discountSavingsText'</li><li>'list.rate.monthly'</li><li>'list.rate.promotionResponse'</li><li>'list.rate.weekly'</li><li>'list.rate.averageDailyPriceWithCurrency.amount'</li><li>'list.rate.averageDailyPriceWithCurrency.currencyCode'</li><li>'list.rate.baseDailyRentalPriceWithCurrency.amount'</li><li>'list.rate.baseDailyRentalPriceWithCurrency.currencyCode'</li><li>'list.vehicle.id'</li><li>'list.vehicle.name'</li><li>'list.vehicle.automaticTransmission'</li><li>'list.vehicle.listingCreatedTime'</li><li>'list.vehicle.make'</li><li>'list.vehicle.marketAreaId'</li><li>'list.vehicle.marketCountry'</li><li>'list.vehicle.model'</li><li>'list.vehicle.registration'</li><li>'list.vehicle.trim'</li><li>'list.vehicle.type'</li><li>'list.vehicle.url'</li><li>'list.vehicle.vin'</li><li>'list.vehicle.year'</li><li>'list.vehicle.image.id'</li><li>'list.vehicle.image.originalImageUrl'</li><li>'list.vehicle.image.placeholder'</li><li>'list.vehicle.image.resizableUrlTemplate'</li><li>'list.vehicle.image.verified'</li><li>'list.vehicle.image.thumbnails.170x125'</li><li>'list.vehicle.image.thumbnails.170x102'</li><li>'list.vehicle.image.thumbnails.620x372'</li><li>'list.vehicle.image.thumbnails.574x343'</li><li>'list.vehicle.image.thumbnails.50x30'</li><li>'list.vehicle.image.thumbnails.100x60'</li><li>'list.vehicle.marketCurrency.currencyCode'</li><li>'list.vehicle.marketCurrency.decimalPlaces'</li><li>'list.vehicle.marketCurrency.defaultFractionDigits'</li><li>'list.vehicle.marketCurrency.symbol'</li><li>'list.images[0].id'</li><li>'list.images[0].originalImageUrl'</li><li>'list.images[0].placeholder'</li><li>'list.images[0].resizableUrlTemplate'</li><li>'list.images[0].verified'</li><li>'list.images[0].thumbnails.170x125'</li><li>'list.images[0].thumbnails.170x102'</li><li>'list.images[0].thumbnails.620x372'</li><li>'list.images[0].thumbnails.574x343'</li><li>'list.images[0].thumbnails.50x30'</li><li>'list.images[0].thumbnails.100x60'</li><li>'emptySearchResult'</li><li>'locationPreciseEnoughForDelivery'</li><li>'numPages'</li><li>'searchId'</li><li>'suggestedLeadDateTime'</li><li>'timeZoneOffset'</li><li>'userCountryGuess'</li><li>'banner.title'</li><li>'banner.actionText'</li><li>'banner.bannerName'</li><li>'banner.text'</li><li>'banner.bannerDesign.resizeableIconDarkURL'</li><li>'banner.bannerDesign.resizeableIconURL'</li><li>'banner.bannerDesign.withBorder'</li><li>'pickupWindow.end.epochMillis'</li><li>'pickupWindow.end.localDate'</li><li>'pickupWindow.end.localTime'</li><li>'pickupWindow.start.epochMillis'</li><li>'pickupWindow.start.localDate'</li><li>'pickupWindow.start.localTime'</li><li>'returnWindow.end.epochMillis'</li><li>'returnWindow.end.localDate'</li><li>'returnWindow.end.localTime'</li><li>'returnWindow.start.epochMillis'</li><li>'returnWindow.start.localDate'</li><li>'returnWindow.start.localTime'</li><li>'searchFilterProperties.deliveryFilterAvailable'</li><li>'searchFilterProperties.turoGoAvailable'</li><li>'searchFilterProperties.deliveryFeeSliderProperties.increment'</li><li>'searchFilterProperties.deliveryFeeSliderProperties.maximum'</li><li>'searchFilterProperties.deliveryFeeSliderProperties.minimum'</li><li>'searchFilterProperties.deliveryFeeSliderPropertiesWithCurrency.increment'</li><li>'searchFilterProperties.deliveryFeeSliderPropertiesWithCurrency.maximum.amount'</li><li>'searchFilterProperties.deliveryFeeSliderPropertiesWithCurrency.maximum.currencyCode'</li><li>'searchFilterProperties.deliveryFeeSliderPropertiesWithCurrency.minimum.amount'</li><li>'searchFilterProperties.deliveryFeeSliderPropertiesWithCurrency.minimum.currencyCode'</li><li>'searchFilterProperties.distanceSliderPropertiesWithUnits.increment'</li><li>'searchFilterProperties.distanceSliderPropertiesWithUnits.maximum.scalar'</li><li>'searchFilterProperties.distanceSliderPropertiesWithUnits.maximum.unit'</li><li>'searchFilterProperties.distanceSliderPropertiesWithUnits.maximum.unlimited'</li><li>'searchFilterProperties.distanceSliderPropertiesWithUnits.minimum.scalar'</li><li>'searchFilterProperties.distanceSliderPropertiesWithUnits.minimum.unit'</li><li>'searchFilterProperties.distanceSliderPropertiesWithUnits.minimum.unlimited'</li><li>'searchFilterProperties.mileageSliderProperties.increment'</li><li>'searchFilterProperties.mileageSliderProperties.maximum'</li><li>'searchFilterProperties.mileageSliderProperties.minimum'</li><li>'searchFilterProperties.priceSliderProperties.increment'</li><li>'searchFilterProperties.priceSliderProperties.maximum'</li><li>'searchFilterProperties.priceSliderProperties.minimum'</li><li>'searchFilterProperties.priceSliderPropertiesWithCurrency.increment'</li><li>'searchFilterProperties.priceSliderPropertiesWithCurrency.maximum.amount'</li><li>'searchFilterProperties.priceSliderPropertiesWithCurrency.maximum.currencyCode'</li><li>'searchFilterProperties.priceSliderPropertiesWithCurrency.minimum.amount'</li><li>'searchFilterProperties.priceSliderPropertiesWithCurrency.minimum.currencyCode'</li><li>'searchFilterProperties.sortOptions[0].label'</li><li>'searchFilterProperties.sortOptions[0].type'</li><li>'searchLocation.address'</li><li>'searchLocation.airportCode'</li><li>'searchLocation.airportName'</li><li>'searchLocation.country'</li><li>'searchLocation.latitude'</li><li>'searchLocation.locality'</li><li>'searchLocation.locationId'</li><li>'searchLocation.locationName'</li><li>'searchLocation.longitude'</li><li>'searchLocation.operational'</li><li>'searchLocation.regionCode'</li><li>'searchLocation.timeZone'</li><li>'searchLocation.type'</li><li>'categories[0].key'</li><li>'categories[0].title'</li><li>'categories[0].description'</li><li>'categories[0].imageUrl'</li><li>'categories[0].seoImageUrl'</li><li>'categories[0].vehicleCount'</li></ol>\n"
      ],
      "text/latex": [
       "\\begin{enumerate*}\n",
       "\\item 'list.deliveryLabel'\n",
       "\\item 'list.distance'\n",
       "\\item 'list.distanceLabel'\n",
       "\\item 'list.freeDeliveryPromotion'\n",
       "\\item 'list.fuelType'\n",
       "\\item 'list.instantBookDisplayed'\n",
       "\\item 'list.newListing'\n",
       "\\item 'list.rating'\n",
       "\\item 'list.rentableFromSearchedAirport'\n",
       "\\item 'list.renterTripsTaken'\n",
       "\\item 'list.responseRate'\n",
       "\\item 'list.responseTime'\n",
       "\\item 'list.reviewCount'\n",
       "\\item 'list.turoGo'\n",
       "\\item 'list.unlimitedMileageBadge'\n",
       "\\item 'list.vehicleFavoritedBySearcher'\n",
       "\\item 'list.vehicleRentedBySearcher'\n",
       "\\item 'list.distanceWithUnit.scalar'\n",
       "\\item 'list.distanceWithUnit.unit'\n",
       "\\item 'list.distanceWithUnit.unlimited'\n",
       "\\item 'list.location.address'\n",
       "\\item 'list.location.city'\n",
       "\\item 'list.location.country'\n",
       "\\item 'list.location.latitude'\n",
       "\\item 'list.location.locationSource'\n",
       "\\item 'list.location.longitude'\n",
       "\\item 'list.location.state'\n",
       "\\item 'list.location.timeZone'\n",
       "\\item 'list.location.precision.accuracy'\n",
       "\\item 'list.location.precision.level'\n",
       "\\item 'list.location.addressLines{[}0{]}'\n",
       "\\item 'list.owner.id'\n",
       "\\item 'list.owner.name'\n",
       "\\item 'list.owner.allStarHost'\n",
       "\\item 'list.owner.firstName'\n",
       "\\item 'list.owner.lastName'\n",
       "\\item 'list.owner.url'\n",
       "\\item 'list.owner.image.id'\n",
       "\\item 'list.owner.image.originalImageUrl'\n",
       "\\item 'list.owner.image.placeholder'\n",
       "\\item 'list.owner.image.resizableUrlTemplate'\n",
       "\\item 'list.owner.image.verified'\n",
       "\\item 'list.owner.image.thumbnails.84x84'\n",
       "\\item 'list.owner.image.thumbnails.300x300'\n",
       "\\item 'list.owner.image.thumbnails.225x225'\n",
       "\\item 'list.owner.image.thumbnails.32x32'\n",
       "\\item 'list.rate.averageDailyPrice'\n",
       "\\item 'list.rate.daily'\n",
       "\\item 'list.rate.discountSavingsText'\n",
       "\\item 'list.rate.monthly'\n",
       "\\item 'list.rate.promotionResponse'\n",
       "\\item 'list.rate.weekly'\n",
       "\\item 'list.rate.averageDailyPriceWithCurrency.amount'\n",
       "\\item 'list.rate.averageDailyPriceWithCurrency.currencyCode'\n",
       "\\item 'list.rate.baseDailyRentalPriceWithCurrency.amount'\n",
       "\\item 'list.rate.baseDailyRentalPriceWithCurrency.currencyCode'\n",
       "\\item 'list.vehicle.id'\n",
       "\\item 'list.vehicle.name'\n",
       "\\item 'list.vehicle.automaticTransmission'\n",
       "\\item 'list.vehicle.listingCreatedTime'\n",
       "\\item 'list.vehicle.make'\n",
       "\\item 'list.vehicle.marketAreaId'\n",
       "\\item 'list.vehicle.marketCountry'\n",
       "\\item 'list.vehicle.model'\n",
       "\\item 'list.vehicle.registration'\n",
       "\\item 'list.vehicle.trim'\n",
       "\\item 'list.vehicle.type'\n",
       "\\item 'list.vehicle.url'\n",
       "\\item 'list.vehicle.vin'\n",
       "\\item 'list.vehicle.year'\n",
       "\\item 'list.vehicle.image.id'\n",
       "\\item 'list.vehicle.image.originalImageUrl'\n",
       "\\item 'list.vehicle.image.placeholder'\n",
       "\\item 'list.vehicle.image.resizableUrlTemplate'\n",
       "\\item 'list.vehicle.image.verified'\n",
       "\\item 'list.vehicle.image.thumbnails.170x125'\n",
       "\\item 'list.vehicle.image.thumbnails.170x102'\n",
       "\\item 'list.vehicle.image.thumbnails.620x372'\n",
       "\\item 'list.vehicle.image.thumbnails.574x343'\n",
       "\\item 'list.vehicle.image.thumbnails.50x30'\n",
       "\\item 'list.vehicle.image.thumbnails.100x60'\n",
       "\\item 'list.vehicle.marketCurrency.currencyCode'\n",
       "\\item 'list.vehicle.marketCurrency.decimalPlaces'\n",
       "\\item 'list.vehicle.marketCurrency.defaultFractionDigits'\n",
       "\\item 'list.vehicle.marketCurrency.symbol'\n",
       "\\item 'list.images{[}0{]}.id'\n",
       "\\item 'list.images{[}0{]}.originalImageUrl'\n",
       "\\item 'list.images{[}0{]}.placeholder'\n",
       "\\item 'list.images{[}0{]}.resizableUrlTemplate'\n",
       "\\item 'list.images{[}0{]}.verified'\n",
       "\\item 'list.images{[}0{]}.thumbnails.170x125'\n",
       "\\item 'list.images{[}0{]}.thumbnails.170x102'\n",
       "\\item 'list.images{[}0{]}.thumbnails.620x372'\n",
       "\\item 'list.images{[}0{]}.thumbnails.574x343'\n",
       "\\item 'list.images{[}0{]}.thumbnails.50x30'\n",
       "\\item 'list.images{[}0{]}.thumbnails.100x60'\n",
       "\\item 'emptySearchResult'\n",
       "\\item 'locationPreciseEnoughForDelivery'\n",
       "\\item 'numPages'\n",
       "\\item 'searchId'\n",
       "\\item 'suggestedLeadDateTime'\n",
       "\\item 'timeZoneOffset'\n",
       "\\item 'userCountryGuess'\n",
       "\\item 'banner.title'\n",
       "\\item 'banner.actionText'\n",
       "\\item 'banner.bannerName'\n",
       "\\item 'banner.text'\n",
       "\\item 'banner.bannerDesign.resizeableIconDarkURL'\n",
       "\\item 'banner.bannerDesign.resizeableIconURL'\n",
       "\\item 'banner.bannerDesign.withBorder'\n",
       "\\item 'pickupWindow.end.epochMillis'\n",
       "\\item 'pickupWindow.end.localDate'\n",
       "\\item 'pickupWindow.end.localTime'\n",
       "\\item 'pickupWindow.start.epochMillis'\n",
       "\\item 'pickupWindow.start.localDate'\n",
       "\\item 'pickupWindow.start.localTime'\n",
       "\\item 'returnWindow.end.epochMillis'\n",
       "\\item 'returnWindow.end.localDate'\n",
       "\\item 'returnWindow.end.localTime'\n",
       "\\item 'returnWindow.start.epochMillis'\n",
       "\\item 'returnWindow.start.localDate'\n",
       "\\item 'returnWindow.start.localTime'\n",
       "\\item 'searchFilterProperties.deliveryFilterAvailable'\n",
       "\\item 'searchFilterProperties.turoGoAvailable'\n",
       "\\item 'searchFilterProperties.deliveryFeeSliderProperties.increment'\n",
       "\\item 'searchFilterProperties.deliveryFeeSliderProperties.maximum'\n",
       "\\item 'searchFilterProperties.deliveryFeeSliderProperties.minimum'\n",
       "\\item 'searchFilterProperties.deliveryFeeSliderPropertiesWithCurrency.increment'\n",
       "\\item 'searchFilterProperties.deliveryFeeSliderPropertiesWithCurrency.maximum.amount'\n",
       "\\item 'searchFilterProperties.deliveryFeeSliderPropertiesWithCurrency.maximum.currencyCode'\n",
       "\\item 'searchFilterProperties.deliveryFeeSliderPropertiesWithCurrency.minimum.amount'\n",
       "\\item 'searchFilterProperties.deliveryFeeSliderPropertiesWithCurrency.minimum.currencyCode'\n",
       "\\item 'searchFilterProperties.distanceSliderPropertiesWithUnits.increment'\n",
       "\\item 'searchFilterProperties.distanceSliderPropertiesWithUnits.maximum.scalar'\n",
       "\\item 'searchFilterProperties.distanceSliderPropertiesWithUnits.maximum.unit'\n",
       "\\item 'searchFilterProperties.distanceSliderPropertiesWithUnits.maximum.unlimited'\n",
       "\\item 'searchFilterProperties.distanceSliderPropertiesWithUnits.minimum.scalar'\n",
       "\\item 'searchFilterProperties.distanceSliderPropertiesWithUnits.minimum.unit'\n",
       "\\item 'searchFilterProperties.distanceSliderPropertiesWithUnits.minimum.unlimited'\n",
       "\\item 'searchFilterProperties.mileageSliderProperties.increment'\n",
       "\\item 'searchFilterProperties.mileageSliderProperties.maximum'\n",
       "\\item 'searchFilterProperties.mileageSliderProperties.minimum'\n",
       "\\item 'searchFilterProperties.priceSliderProperties.increment'\n",
       "\\item 'searchFilterProperties.priceSliderProperties.maximum'\n",
       "\\item 'searchFilterProperties.priceSliderProperties.minimum'\n",
       "\\item 'searchFilterProperties.priceSliderPropertiesWithCurrency.increment'\n",
       "\\item 'searchFilterProperties.priceSliderPropertiesWithCurrency.maximum.amount'\n",
       "\\item 'searchFilterProperties.priceSliderPropertiesWithCurrency.maximum.currencyCode'\n",
       "\\item 'searchFilterProperties.priceSliderPropertiesWithCurrency.minimum.amount'\n",
       "\\item 'searchFilterProperties.priceSliderPropertiesWithCurrency.minimum.currencyCode'\n",
       "\\item 'searchFilterProperties.sortOptions{[}0{]}.label'\n",
       "\\item 'searchFilterProperties.sortOptions{[}0{]}.type'\n",
       "\\item 'searchLocation.address'\n",
       "\\item 'searchLocation.airportCode'\n",
       "\\item 'searchLocation.airportName'\n",
       "\\item 'searchLocation.country'\n",
       "\\item 'searchLocation.latitude'\n",
       "\\item 'searchLocation.locality'\n",
       "\\item 'searchLocation.locationId'\n",
       "\\item 'searchLocation.locationName'\n",
       "\\item 'searchLocation.longitude'\n",
       "\\item 'searchLocation.operational'\n",
       "\\item 'searchLocation.regionCode'\n",
       "\\item 'searchLocation.timeZone'\n",
       "\\item 'searchLocation.type'\n",
       "\\item 'categories{[}0{]}.key'\n",
       "\\item 'categories{[}0{]}.title'\n",
       "\\item 'categories{[}0{]}.description'\n",
       "\\item 'categories{[}0{]}.imageUrl'\n",
       "\\item 'categories{[}0{]}.seoImageUrl'\n",
       "\\item 'categories{[}0{]}.vehicleCount'\n",
       "\\end{enumerate*}\n"
      ],
      "text/markdown": [
       "1. 'list.deliveryLabel'\n",
       "2. 'list.distance'\n",
       "3. 'list.distanceLabel'\n",
       "4. 'list.freeDeliveryPromotion'\n",
       "5. 'list.fuelType'\n",
       "6. 'list.instantBookDisplayed'\n",
       "7. 'list.newListing'\n",
       "8. 'list.rating'\n",
       "9. 'list.rentableFromSearchedAirport'\n",
       "10. 'list.renterTripsTaken'\n",
       "11. 'list.responseRate'\n",
       "12. 'list.responseTime'\n",
       "13. 'list.reviewCount'\n",
       "14. 'list.turoGo'\n",
       "15. 'list.unlimitedMileageBadge'\n",
       "16. 'list.vehicleFavoritedBySearcher'\n",
       "17. 'list.vehicleRentedBySearcher'\n",
       "18. 'list.distanceWithUnit.scalar'\n",
       "19. 'list.distanceWithUnit.unit'\n",
       "20. 'list.distanceWithUnit.unlimited'\n",
       "21. 'list.location.address'\n",
       "22. 'list.location.city'\n",
       "23. 'list.location.country'\n",
       "24. 'list.location.latitude'\n",
       "25. 'list.location.locationSource'\n",
       "26. 'list.location.longitude'\n",
       "27. 'list.location.state'\n",
       "28. 'list.location.timeZone'\n",
       "29. 'list.location.precision.accuracy'\n",
       "30. 'list.location.precision.level'\n",
       "31. 'list.location.addressLines[0]'\n",
       "32. 'list.owner.id'\n",
       "33. 'list.owner.name'\n",
       "34. 'list.owner.allStarHost'\n",
       "35. 'list.owner.firstName'\n",
       "36. 'list.owner.lastName'\n",
       "37. 'list.owner.url'\n",
       "38. 'list.owner.image.id'\n",
       "39. 'list.owner.image.originalImageUrl'\n",
       "40. 'list.owner.image.placeholder'\n",
       "41. 'list.owner.image.resizableUrlTemplate'\n",
       "42. 'list.owner.image.verified'\n",
       "43. 'list.owner.image.thumbnails.84x84'\n",
       "44. 'list.owner.image.thumbnails.300x300'\n",
       "45. 'list.owner.image.thumbnails.225x225'\n",
       "46. 'list.owner.image.thumbnails.32x32'\n",
       "47. 'list.rate.averageDailyPrice'\n",
       "48. 'list.rate.daily'\n",
       "49. 'list.rate.discountSavingsText'\n",
       "50. 'list.rate.monthly'\n",
       "51. 'list.rate.promotionResponse'\n",
       "52. 'list.rate.weekly'\n",
       "53. 'list.rate.averageDailyPriceWithCurrency.amount'\n",
       "54. 'list.rate.averageDailyPriceWithCurrency.currencyCode'\n",
       "55. 'list.rate.baseDailyRentalPriceWithCurrency.amount'\n",
       "56. 'list.rate.baseDailyRentalPriceWithCurrency.currencyCode'\n",
       "57. 'list.vehicle.id'\n",
       "58. 'list.vehicle.name'\n",
       "59. 'list.vehicle.automaticTransmission'\n",
       "60. 'list.vehicle.listingCreatedTime'\n",
       "61. 'list.vehicle.make'\n",
       "62. 'list.vehicle.marketAreaId'\n",
       "63. 'list.vehicle.marketCountry'\n",
       "64. 'list.vehicle.model'\n",
       "65. 'list.vehicle.registration'\n",
       "66. 'list.vehicle.trim'\n",
       "67. 'list.vehicle.type'\n",
       "68. 'list.vehicle.url'\n",
       "69. 'list.vehicle.vin'\n",
       "70. 'list.vehicle.year'\n",
       "71. 'list.vehicle.image.id'\n",
       "72. 'list.vehicle.image.originalImageUrl'\n",
       "73. 'list.vehicle.image.placeholder'\n",
       "74. 'list.vehicle.image.resizableUrlTemplate'\n",
       "75. 'list.vehicle.image.verified'\n",
       "76. 'list.vehicle.image.thumbnails.170x125'\n",
       "77. 'list.vehicle.image.thumbnails.170x102'\n",
       "78. 'list.vehicle.image.thumbnails.620x372'\n",
       "79. 'list.vehicle.image.thumbnails.574x343'\n",
       "80. 'list.vehicle.image.thumbnails.50x30'\n",
       "81. 'list.vehicle.image.thumbnails.100x60'\n",
       "82. 'list.vehicle.marketCurrency.currencyCode'\n",
       "83. 'list.vehicle.marketCurrency.decimalPlaces'\n",
       "84. 'list.vehicle.marketCurrency.defaultFractionDigits'\n",
       "85. 'list.vehicle.marketCurrency.symbol'\n",
       "86. 'list.images[0].id'\n",
       "87. 'list.images[0].originalImageUrl'\n",
       "88. 'list.images[0].placeholder'\n",
       "89. 'list.images[0].resizableUrlTemplate'\n",
       "90. 'list.images[0].verified'\n",
       "91. 'list.images[0].thumbnails.170x125'\n",
       "92. 'list.images[0].thumbnails.170x102'\n",
       "93. 'list.images[0].thumbnails.620x372'\n",
       "94. 'list.images[0].thumbnails.574x343'\n",
       "95. 'list.images[0].thumbnails.50x30'\n",
       "96. 'list.images[0].thumbnails.100x60'\n",
       "97. 'emptySearchResult'\n",
       "98. 'locationPreciseEnoughForDelivery'\n",
       "99. 'numPages'\n",
       "100. 'searchId'\n",
       "101. 'suggestedLeadDateTime'\n",
       "102. 'timeZoneOffset'\n",
       "103. 'userCountryGuess'\n",
       "104. 'banner.title'\n",
       "105. 'banner.actionText'\n",
       "106. 'banner.bannerName'\n",
       "107. 'banner.text'\n",
       "108. 'banner.bannerDesign.resizeableIconDarkURL'\n",
       "109. 'banner.bannerDesign.resizeableIconURL'\n",
       "110. 'banner.bannerDesign.withBorder'\n",
       "111. 'pickupWindow.end.epochMillis'\n",
       "112. 'pickupWindow.end.localDate'\n",
       "113. 'pickupWindow.end.localTime'\n",
       "114. 'pickupWindow.start.epochMillis'\n",
       "115. 'pickupWindow.start.localDate'\n",
       "116. 'pickupWindow.start.localTime'\n",
       "117. 'returnWindow.end.epochMillis'\n",
       "118. 'returnWindow.end.localDate'\n",
       "119. 'returnWindow.end.localTime'\n",
       "120. 'returnWindow.start.epochMillis'\n",
       "121. 'returnWindow.start.localDate'\n",
       "122. 'returnWindow.start.localTime'\n",
       "123. 'searchFilterProperties.deliveryFilterAvailable'\n",
       "124. 'searchFilterProperties.turoGoAvailable'\n",
       "125. 'searchFilterProperties.deliveryFeeSliderProperties.increment'\n",
       "126. 'searchFilterProperties.deliveryFeeSliderProperties.maximum'\n",
       "127. 'searchFilterProperties.deliveryFeeSliderProperties.minimum'\n",
       "128. 'searchFilterProperties.deliveryFeeSliderPropertiesWithCurrency.increment'\n",
       "129. 'searchFilterProperties.deliveryFeeSliderPropertiesWithCurrency.maximum.amount'\n",
       "130. 'searchFilterProperties.deliveryFeeSliderPropertiesWithCurrency.maximum.currencyCode'\n",
       "131. 'searchFilterProperties.deliveryFeeSliderPropertiesWithCurrency.minimum.amount'\n",
       "132. 'searchFilterProperties.deliveryFeeSliderPropertiesWithCurrency.minimum.currencyCode'\n",
       "133. 'searchFilterProperties.distanceSliderPropertiesWithUnits.increment'\n",
       "134. 'searchFilterProperties.distanceSliderPropertiesWithUnits.maximum.scalar'\n",
       "135. 'searchFilterProperties.distanceSliderPropertiesWithUnits.maximum.unit'\n",
       "136. 'searchFilterProperties.distanceSliderPropertiesWithUnits.maximum.unlimited'\n",
       "137. 'searchFilterProperties.distanceSliderPropertiesWithUnits.minimum.scalar'\n",
       "138. 'searchFilterProperties.distanceSliderPropertiesWithUnits.minimum.unit'\n",
       "139. 'searchFilterProperties.distanceSliderPropertiesWithUnits.minimum.unlimited'\n",
       "140. 'searchFilterProperties.mileageSliderProperties.increment'\n",
       "141. 'searchFilterProperties.mileageSliderProperties.maximum'\n",
       "142. 'searchFilterProperties.mileageSliderProperties.minimum'\n",
       "143. 'searchFilterProperties.priceSliderProperties.increment'\n",
       "144. 'searchFilterProperties.priceSliderProperties.maximum'\n",
       "145. 'searchFilterProperties.priceSliderProperties.minimum'\n",
       "146. 'searchFilterProperties.priceSliderPropertiesWithCurrency.increment'\n",
       "147. 'searchFilterProperties.priceSliderPropertiesWithCurrency.maximum.amount'\n",
       "148. 'searchFilterProperties.priceSliderPropertiesWithCurrency.maximum.currencyCode'\n",
       "149. 'searchFilterProperties.priceSliderPropertiesWithCurrency.minimum.amount'\n",
       "150. 'searchFilterProperties.priceSliderPropertiesWithCurrency.minimum.currencyCode'\n",
       "151. 'searchFilterProperties.sortOptions[0].label'\n",
       "152. 'searchFilterProperties.sortOptions[0].type'\n",
       "153. 'searchLocation.address'\n",
       "154. 'searchLocation.airportCode'\n",
       "155. 'searchLocation.airportName'\n",
       "156. 'searchLocation.country'\n",
       "157. 'searchLocation.latitude'\n",
       "158. 'searchLocation.locality'\n",
       "159. 'searchLocation.locationId'\n",
       "160. 'searchLocation.locationName'\n",
       "161. 'searchLocation.longitude'\n",
       "162. 'searchLocation.operational'\n",
       "163. 'searchLocation.regionCode'\n",
       "164. 'searchLocation.timeZone'\n",
       "165. 'searchLocation.type'\n",
       "166. 'categories[0].key'\n",
       "167. 'categories[0].title'\n",
       "168. 'categories[0].description'\n",
       "169. 'categories[0].imageUrl'\n",
       "170. 'categories[0].seoImageUrl'\n",
       "171. 'categories[0].vehicleCount'\n",
       "\n",
       "\n"
      ],
      "text/plain": [
       "  [1] \"list.deliveryLabel\"                                                                 \n",
       "  [2] \"list.distance\"                                                                      \n",
       "  [3] \"list.distanceLabel\"                                                                 \n",
       "  [4] \"list.freeDeliveryPromotion\"                                                         \n",
       "  [5] \"list.fuelType\"                                                                      \n",
       "  [6] \"list.instantBookDisplayed\"                                                          \n",
       "  [7] \"list.newListing\"                                                                    \n",
       "  [8] \"list.rating\"                                                                        \n",
       "  [9] \"list.rentableFromSearchedAirport\"                                                   \n",
       " [10] \"list.renterTripsTaken\"                                                              \n",
       " [11] \"list.responseRate\"                                                                  \n",
       " [12] \"list.responseTime\"                                                                  \n",
       " [13] \"list.reviewCount\"                                                                   \n",
       " [14] \"list.turoGo\"                                                                        \n",
       " [15] \"list.unlimitedMileageBadge\"                                                         \n",
       " [16] \"list.vehicleFavoritedBySearcher\"                                                    \n",
       " [17] \"list.vehicleRentedBySearcher\"                                                       \n",
       " [18] \"list.distanceWithUnit.scalar\"                                                       \n",
       " [19] \"list.distanceWithUnit.unit\"                                                         \n",
       " [20] \"list.distanceWithUnit.unlimited\"                                                    \n",
       " [21] \"list.location.address\"                                                              \n",
       " [22] \"list.location.city\"                                                                 \n",
       " [23] \"list.location.country\"                                                              \n",
       " [24] \"list.location.latitude\"                                                             \n",
       " [25] \"list.location.locationSource\"                                                       \n",
       " [26] \"list.location.longitude\"                                                            \n",
       " [27] \"list.location.state\"                                                                \n",
       " [28] \"list.location.timeZone\"                                                             \n",
       " [29] \"list.location.precision.accuracy\"                                                   \n",
       " [30] \"list.location.precision.level\"                                                      \n",
       " [31] \"list.location.addressLines[0]\"                                                      \n",
       " [32] \"list.owner.id\"                                                                      \n",
       " [33] \"list.owner.name\"                                                                    \n",
       " [34] \"list.owner.allStarHost\"                                                             \n",
       " [35] \"list.owner.firstName\"                                                               \n",
       " [36] \"list.owner.lastName\"                                                                \n",
       " [37] \"list.owner.url\"                                                                     \n",
       " [38] \"list.owner.image.id\"                                                                \n",
       " [39] \"list.owner.image.originalImageUrl\"                                                  \n",
       " [40] \"list.owner.image.placeholder\"                                                       \n",
       " [41] \"list.owner.image.resizableUrlTemplate\"                                              \n",
       " [42] \"list.owner.image.verified\"                                                          \n",
       " [43] \"list.owner.image.thumbnails.84x84\"                                                  \n",
       " [44] \"list.owner.image.thumbnails.300x300\"                                                \n",
       " [45] \"list.owner.image.thumbnails.225x225\"                                                \n",
       " [46] \"list.owner.image.thumbnails.32x32\"                                                  \n",
       " [47] \"list.rate.averageDailyPrice\"                                                        \n",
       " [48] \"list.rate.daily\"                                                                    \n",
       " [49] \"list.rate.discountSavingsText\"                                                      \n",
       " [50] \"list.rate.monthly\"                                                                  \n",
       " [51] \"list.rate.promotionResponse\"                                                        \n",
       " [52] \"list.rate.weekly\"                                                                   \n",
       " [53] \"list.rate.averageDailyPriceWithCurrency.amount\"                                     \n",
       " [54] \"list.rate.averageDailyPriceWithCurrency.currencyCode\"                               \n",
       " [55] \"list.rate.baseDailyRentalPriceWithCurrency.amount\"                                  \n",
       " [56] \"list.rate.baseDailyRentalPriceWithCurrency.currencyCode\"                            \n",
       " [57] \"list.vehicle.id\"                                                                    \n",
       " [58] \"list.vehicle.name\"                                                                  \n",
       " [59] \"list.vehicle.automaticTransmission\"                                                 \n",
       " [60] \"list.vehicle.listingCreatedTime\"                                                    \n",
       " [61] \"list.vehicle.make\"                                                                  \n",
       " [62] \"list.vehicle.marketAreaId\"                                                          \n",
       " [63] \"list.vehicle.marketCountry\"                                                         \n",
       " [64] \"list.vehicle.model\"                                                                 \n",
       " [65] \"list.vehicle.registration\"                                                          \n",
       " [66] \"list.vehicle.trim\"                                                                  \n",
       " [67] \"list.vehicle.type\"                                                                  \n",
       " [68] \"list.vehicle.url\"                                                                   \n",
       " [69] \"list.vehicle.vin\"                                                                   \n",
       " [70] \"list.vehicle.year\"                                                                  \n",
       " [71] \"list.vehicle.image.id\"                                                              \n",
       " [72] \"list.vehicle.image.originalImageUrl\"                                                \n",
       " [73] \"list.vehicle.image.placeholder\"                                                     \n",
       " [74] \"list.vehicle.image.resizableUrlTemplate\"                                            \n",
       " [75] \"list.vehicle.image.verified\"                                                        \n",
       " [76] \"list.vehicle.image.thumbnails.170x125\"                                              \n",
       " [77] \"list.vehicle.image.thumbnails.170x102\"                                              \n",
       " [78] \"list.vehicle.image.thumbnails.620x372\"                                              \n",
       " [79] \"list.vehicle.image.thumbnails.574x343\"                                              \n",
       " [80] \"list.vehicle.image.thumbnails.50x30\"                                                \n",
       " [81] \"list.vehicle.image.thumbnails.100x60\"                                               \n",
       " [82] \"list.vehicle.marketCurrency.currencyCode\"                                           \n",
       " [83] \"list.vehicle.marketCurrency.decimalPlaces\"                                          \n",
       " [84] \"list.vehicle.marketCurrency.defaultFractionDigits\"                                  \n",
       " [85] \"list.vehicle.marketCurrency.symbol\"                                                 \n",
       " [86] \"list.images[0].id\"                                                                  \n",
       " [87] \"list.images[0].originalImageUrl\"                                                    \n",
       " [88] \"list.images[0].placeholder\"                                                         \n",
       " [89] \"list.images[0].resizableUrlTemplate\"                                                \n",
       " [90] \"list.images[0].verified\"                                                            \n",
       " [91] \"list.images[0].thumbnails.170x125\"                                                  \n",
       " [92] \"list.images[0].thumbnails.170x102\"                                                  \n",
       " [93] \"list.images[0].thumbnails.620x372\"                                                  \n",
       " [94] \"list.images[0].thumbnails.574x343\"                                                  \n",
       " [95] \"list.images[0].thumbnails.50x30\"                                                    \n",
       " [96] \"list.images[0].thumbnails.100x60\"                                                   \n",
       " [97] \"emptySearchResult\"                                                                  \n",
       " [98] \"locationPreciseEnoughForDelivery\"                                                   \n",
       " [99] \"numPages\"                                                                           \n",
       "[100] \"searchId\"                                                                           \n",
       "[101] \"suggestedLeadDateTime\"                                                              \n",
       "[102] \"timeZoneOffset\"                                                                     \n",
       "[103] \"userCountryGuess\"                                                                   \n",
       "[104] \"banner.title\"                                                                       \n",
       "[105] \"banner.actionText\"                                                                  \n",
       "[106] \"banner.bannerName\"                                                                  \n",
       "[107] \"banner.text\"                                                                        \n",
       "[108] \"banner.bannerDesign.resizeableIconDarkURL\"                                          \n",
       "[109] \"banner.bannerDesign.resizeableIconURL\"                                              \n",
       "[110] \"banner.bannerDesign.withBorder\"                                                     \n",
       "[111] \"pickupWindow.end.epochMillis\"                                                       \n",
       "[112] \"pickupWindow.end.localDate\"                                                         \n",
       "[113] \"pickupWindow.end.localTime\"                                                         \n",
       "[114] \"pickupWindow.start.epochMillis\"                                                     \n",
       "[115] \"pickupWindow.start.localDate\"                                                       \n",
       "[116] \"pickupWindow.start.localTime\"                                                       \n",
       "[117] \"returnWindow.end.epochMillis\"                                                       \n",
       "[118] \"returnWindow.end.localDate\"                                                         \n",
       "[119] \"returnWindow.end.localTime\"                                                         \n",
       "[120] \"returnWindow.start.epochMillis\"                                                     \n",
       "[121] \"returnWindow.start.localDate\"                                                       \n",
       "[122] \"returnWindow.start.localTime\"                                                       \n",
       "[123] \"searchFilterProperties.deliveryFilterAvailable\"                                     \n",
       "[124] \"searchFilterProperties.turoGoAvailable\"                                             \n",
       "[125] \"searchFilterProperties.deliveryFeeSliderProperties.increment\"                       \n",
       "[126] \"searchFilterProperties.deliveryFeeSliderProperties.maximum\"                         \n",
       "[127] \"searchFilterProperties.deliveryFeeSliderProperties.minimum\"                         \n",
       "[128] \"searchFilterProperties.deliveryFeeSliderPropertiesWithCurrency.increment\"           \n",
       "[129] \"searchFilterProperties.deliveryFeeSliderPropertiesWithCurrency.maximum.amount\"      \n",
       "[130] \"searchFilterProperties.deliveryFeeSliderPropertiesWithCurrency.maximum.currencyCode\"\n",
       "[131] \"searchFilterProperties.deliveryFeeSliderPropertiesWithCurrency.minimum.amount\"      \n",
       "[132] \"searchFilterProperties.deliveryFeeSliderPropertiesWithCurrency.minimum.currencyCode\"\n",
       "[133] \"searchFilterProperties.distanceSliderPropertiesWithUnits.increment\"                 \n",
       "[134] \"searchFilterProperties.distanceSliderPropertiesWithUnits.maximum.scalar\"            \n",
       "[135] \"searchFilterProperties.distanceSliderPropertiesWithUnits.maximum.unit\"              \n",
       "[136] \"searchFilterProperties.distanceSliderPropertiesWithUnits.maximum.unlimited\"         \n",
       "[137] \"searchFilterProperties.distanceSliderPropertiesWithUnits.minimum.scalar\"            \n",
       "[138] \"searchFilterProperties.distanceSliderPropertiesWithUnits.minimum.unit\"              \n",
       "[139] \"searchFilterProperties.distanceSliderPropertiesWithUnits.minimum.unlimited\"         \n",
       "[140] \"searchFilterProperties.mileageSliderProperties.increment\"                           \n",
       "[141] \"searchFilterProperties.mileageSliderProperties.maximum\"                             \n",
       "[142] \"searchFilterProperties.mileageSliderProperties.minimum\"                             \n",
       "[143] \"searchFilterProperties.priceSliderProperties.increment\"                             \n",
       "[144] \"searchFilterProperties.priceSliderProperties.maximum\"                               \n",
       "[145] \"searchFilterProperties.priceSliderProperties.minimum\"                               \n",
       "[146] \"searchFilterProperties.priceSliderPropertiesWithCurrency.increment\"                 \n",
       "[147] \"searchFilterProperties.priceSliderPropertiesWithCurrency.maximum.amount\"            \n",
       "[148] \"searchFilterProperties.priceSliderPropertiesWithCurrency.maximum.currencyCode\"      \n",
       "[149] \"searchFilterProperties.priceSliderPropertiesWithCurrency.minimum.amount\"            \n",
       "[150] \"searchFilterProperties.priceSliderPropertiesWithCurrency.minimum.currencyCode\"      \n",
       "[151] \"searchFilterProperties.sortOptions[0].label\"                                        \n",
       "[152] \"searchFilterProperties.sortOptions[0].type\"                                         \n",
       "[153] \"searchLocation.address\"                                                             \n",
       "[154] \"searchLocation.airportCode\"                                                         \n",
       "[155] \"searchLocation.airportName\"                                                         \n",
       "[156] \"searchLocation.country\"                                                             \n",
       "[157] \"searchLocation.latitude\"                                                            \n",
       "[158] \"searchLocation.locality\"                                                            \n",
       "[159] \"searchLocation.locationId\"                                                          \n",
       "[160] \"searchLocation.locationName\"                                                        \n",
       "[161] \"searchLocation.longitude\"                                                           \n",
       "[162] \"searchLocation.operational\"                                                         \n",
       "[163] \"searchLocation.regionCode\"                                                          \n",
       "[164] \"searchLocation.timeZone\"                                                            \n",
       "[165] \"searchLocation.type\"                                                                \n",
       "[166] \"categories[0].key\"                                                                  \n",
       "[167] \"categories[0].title\"                                                                \n",
       "[168] \"categories[0].description\"                                                          \n",
       "[169] \"categories[0].imageUrl\"                                                             \n",
       "[170] \"categories[0].seoImageUrl\"                                                          \n",
       "[171] \"categories[0].vehicleCount\"                                                         "
      ]
     },
     "metadata": {},
     "output_type": "display_data"
    }
   ],
   "source": [
    "colnames(Turo)"
   ]
  },
  {
   "cell_type": "markdown",
   "id": "5d3d7835",
   "metadata": {},
   "source": [
    "Looking at the first 6 rows of the Dataset"
   ]
  },
  {
   "cell_type": "code",
   "execution_count": 5,
   "id": "33c861bc",
   "metadata": {},
   "outputs": [
    {
     "data": {
      "text/html": [
       "<table class=\"dataframe\">\n",
       "<caption>A tibble: 6 × 171</caption>\n",
       "<thead>\n",
       "\t<tr><th scope=col>list.deliveryLabel</th><th scope=col>list.distance</th><th scope=col>list.distanceLabel</th><th scope=col>list.freeDeliveryPromotion</th><th scope=col>list.fuelType</th><th scope=col>list.instantBookDisplayed</th><th scope=col>list.newListing</th><th scope=col>list.rating</th><th scope=col>list.rentableFromSearchedAirport</th><th scope=col>list.renterTripsTaken</th><th scope=col>⋯</th><th scope=col>searchLocation.operational</th><th scope=col>searchLocation.regionCode</th><th scope=col>searchLocation.timeZone</th><th scope=col>searchLocation.type</th><th scope=col>categories[0].key</th><th scope=col>categories[0].title</th><th scope=col>categories[0].description</th><th scope=col>categories[0].imageUrl</th><th scope=col>categories[0].seoImageUrl</th><th scope=col>categories[0].vehicleCount</th></tr>\n",
       "\t<tr><th scope=col>&lt;chr&gt;</th><th scope=col>&lt;dbl&gt;</th><th scope=col>&lt;chr&gt;</th><th scope=col>&lt;lgl&gt;</th><th scope=col>&lt;lgl&gt;</th><th scope=col>&lt;lgl&gt;</th><th scope=col>&lt;lgl&gt;</th><th scope=col>&lt;dbl&gt;</th><th scope=col>&lt;lgl&gt;</th><th scope=col>&lt;dbl&gt;</th><th scope=col>⋯</th><th scope=col>&lt;lgl&gt;</th><th scope=col>&lt;chr&gt;</th><th scope=col>&lt;chr&gt;</th><th scope=col>&lt;chr&gt;</th><th scope=col>&lt;chr&gt;</th><th scope=col>&lt;chr&gt;</th><th scope=col>&lt;chr&gt;</th><th scope=col>&lt;chr&gt;</th><th scope=col>&lt;chr&gt;</th><th scope=col>&lt;dbl&gt;</th></tr>\n",
       "</thead>\n",
       "<tbody>\n",
       "\t<tr><td>NA</td><td>6</td><td>5.9 mi</td><td>FALSE</td><td>NA</td><td>FALSE</td><td>FALSE</td><td>4.50</td><td>FALSE</td><td>15</td><td>⋯</td><td>TRUE</td><td>NC</td><td>America/New_York</td><td>AIRPORT</td><td>FAMILY_FRIENDLY</td><td>Family friendly</td><td>Minivans, wagons, &amp; SUVs</td><td>https://resources.turo.com/resources/img/vehicle_categories/family_friendly.420x210.png</td><td>https://resources.turo.com/resources/img/vehicle_categories_seo/family_friendly.1280x751.jpg</td><td>30</td></tr>\n",
       "\t<tr><td>NA</td><td>2</td><td>2.2 mi</td><td>FALSE</td><td>NA</td><td>FALSE</td><td>FALSE</td><td>4.97</td><td>FALSE</td><td>34</td><td>⋯</td><td>TRUE</td><td>NC</td><td>America/New_York</td><td>AIRPORT</td><td>FAMILY_FRIENDLY</td><td>Family friendly</td><td>Minivans, wagons, &amp; SUVs</td><td>https://resources.turo.com/resources/img/vehicle_categories/family_friendly.420x210.png</td><td>https://resources.turo.com/resources/img/vehicle_categories_seo/family_friendly.1280x751.jpg</td><td>30</td></tr>\n",
       "\t<tr><td>NA</td><td>1</td><td>1.3 mi</td><td>FALSE</td><td>NA</td><td>FALSE</td><td>FALSE</td><td>4.96</td><td>FALSE</td><td>26</td><td>⋯</td><td>TRUE</td><td>NC</td><td>America/New_York</td><td>AIRPORT</td><td>FAMILY_FRIENDLY</td><td>Family friendly</td><td>Minivans, wagons, &amp; SUVs</td><td>https://resources.turo.com/resources/img/vehicle_categories/family_friendly.420x210.png</td><td>https://resources.turo.com/resources/img/vehicle_categories_seo/family_friendly.1280x751.jpg</td><td>30</td></tr>\n",
       "\t<tr><td>NA</td><td>9</td><td>8.8 mi</td><td>FALSE</td><td>NA</td><td>FALSE</td><td>FALSE</td><td>4.96</td><td>FALSE</td><td>67</td><td>⋯</td><td>TRUE</td><td>NC</td><td>America/New_York</td><td>AIRPORT</td><td>FAMILY_FRIENDLY</td><td>Family friendly</td><td>Minivans, wagons, &amp; SUVs</td><td>https://resources.turo.com/resources/img/vehicle_categories/family_friendly.420x210.png</td><td>https://resources.turo.com/resources/img/vehicle_categories_seo/family_friendly.1280x751.jpg</td><td>30</td></tr>\n",
       "\t<tr><td>NA</td><td>4</td><td>3.5 mi</td><td>FALSE</td><td>NA</td><td>FALSE</td><td>FALSE</td><td>5.00</td><td>FALSE</td><td>12</td><td>⋯</td><td>TRUE</td><td>NC</td><td>America/New_York</td><td>AIRPORT</td><td>FAMILY_FRIENDLY</td><td>Family friendly</td><td>Minivans, wagons, &amp; SUVs</td><td>https://resources.turo.com/resources/img/vehicle_categories/family_friendly.420x210.png</td><td>https://resources.turo.com/resources/img/vehicle_categories_seo/family_friendly.1280x751.jpg</td><td>30</td></tr>\n",
       "\t<tr><td>NA</td><td>2</td><td>2.2 mi</td><td>FALSE</td><td>NA</td><td>FALSE</td><td> TRUE</td><td>5.00</td><td>FALSE</td><td> 3</td><td>⋯</td><td>TRUE</td><td>NC</td><td>America/New_York</td><td>AIRPORT</td><td>FAMILY_FRIENDLY</td><td>Family friendly</td><td>Minivans, wagons, &amp; SUVs</td><td>https://resources.turo.com/resources/img/vehicle_categories/family_friendly.420x210.png</td><td>https://resources.turo.com/resources/img/vehicle_categories_seo/family_friendly.1280x751.jpg</td><td>30</td></tr>\n",
       "</tbody>\n",
       "</table>\n"
      ],
      "text/latex": [
       "A tibble: 6 × 171\n",
       "\\begin{tabular}{lllllllllllllllllllll}\n",
       " list.deliveryLabel & list.distance & list.distanceLabel & list.freeDeliveryPromotion & list.fuelType & list.instantBookDisplayed & list.newListing & list.rating & list.rentableFromSearchedAirport & list.renterTripsTaken & ⋯ & searchLocation.operational & searchLocation.regionCode & searchLocation.timeZone & searchLocation.type & categories{[}0{]}.key & categories{[}0{]}.title & categories{[}0{]}.description & categories{[}0{]}.imageUrl & categories{[}0{]}.seoImageUrl & categories{[}0{]}.vehicleCount\\\\\n",
       " <chr> & <dbl> & <chr> & <lgl> & <lgl> & <lgl> & <lgl> & <dbl> & <lgl> & <dbl> & ⋯ & <lgl> & <chr> & <chr> & <chr> & <chr> & <chr> & <chr> & <chr> & <chr> & <dbl>\\\\\n",
       "\\hline\n",
       "\t NA & 6 & 5.9 mi & FALSE & NA & FALSE & FALSE & 4.50 & FALSE & 15 & ⋯ & TRUE & NC & America/New\\_York & AIRPORT & FAMILY\\_FRIENDLY & Family friendly & Minivans, wagons, \\& SUVs & https://resources.turo.com/resources/img/vehicle\\_categories/family\\_friendly.420x210.png & https://resources.turo.com/resources/img/vehicle\\_categories\\_seo/family\\_friendly.1280x751.jpg & 30\\\\\n",
       "\t NA & 2 & 2.2 mi & FALSE & NA & FALSE & FALSE & 4.97 & FALSE & 34 & ⋯ & TRUE & NC & America/New\\_York & AIRPORT & FAMILY\\_FRIENDLY & Family friendly & Minivans, wagons, \\& SUVs & https://resources.turo.com/resources/img/vehicle\\_categories/family\\_friendly.420x210.png & https://resources.turo.com/resources/img/vehicle\\_categories\\_seo/family\\_friendly.1280x751.jpg & 30\\\\\n",
       "\t NA & 1 & 1.3 mi & FALSE & NA & FALSE & FALSE & 4.96 & FALSE & 26 & ⋯ & TRUE & NC & America/New\\_York & AIRPORT & FAMILY\\_FRIENDLY & Family friendly & Minivans, wagons, \\& SUVs & https://resources.turo.com/resources/img/vehicle\\_categories/family\\_friendly.420x210.png & https://resources.turo.com/resources/img/vehicle\\_categories\\_seo/family\\_friendly.1280x751.jpg & 30\\\\\n",
       "\t NA & 9 & 8.8 mi & FALSE & NA & FALSE & FALSE & 4.96 & FALSE & 67 & ⋯ & TRUE & NC & America/New\\_York & AIRPORT & FAMILY\\_FRIENDLY & Family friendly & Minivans, wagons, \\& SUVs & https://resources.turo.com/resources/img/vehicle\\_categories/family\\_friendly.420x210.png & https://resources.turo.com/resources/img/vehicle\\_categories\\_seo/family\\_friendly.1280x751.jpg & 30\\\\\n",
       "\t NA & 4 & 3.5 mi & FALSE & NA & FALSE & FALSE & 5.00 & FALSE & 12 & ⋯ & TRUE & NC & America/New\\_York & AIRPORT & FAMILY\\_FRIENDLY & Family friendly & Minivans, wagons, \\& SUVs & https://resources.turo.com/resources/img/vehicle\\_categories/family\\_friendly.420x210.png & https://resources.turo.com/resources/img/vehicle\\_categories\\_seo/family\\_friendly.1280x751.jpg & 30\\\\\n",
       "\t NA & 2 & 2.2 mi & FALSE & NA & FALSE &  TRUE & 5.00 & FALSE &  3 & ⋯ & TRUE & NC & America/New\\_York & AIRPORT & FAMILY\\_FRIENDLY & Family friendly & Minivans, wagons, \\& SUVs & https://resources.turo.com/resources/img/vehicle\\_categories/family\\_friendly.420x210.png & https://resources.turo.com/resources/img/vehicle\\_categories\\_seo/family\\_friendly.1280x751.jpg & 30\\\\\n",
       "\\end{tabular}\n"
      ],
      "text/markdown": [
       "\n",
       "A tibble: 6 × 171\n",
       "\n",
       "| list.deliveryLabel &lt;chr&gt; | list.distance &lt;dbl&gt; | list.distanceLabel &lt;chr&gt; | list.freeDeliveryPromotion &lt;lgl&gt; | list.fuelType &lt;lgl&gt; | list.instantBookDisplayed &lt;lgl&gt; | list.newListing &lt;lgl&gt; | list.rating &lt;dbl&gt; | list.rentableFromSearchedAirport &lt;lgl&gt; | list.renterTripsTaken &lt;dbl&gt; | ⋯ ⋯ | searchLocation.operational &lt;lgl&gt; | searchLocation.regionCode &lt;chr&gt; | searchLocation.timeZone &lt;chr&gt; | searchLocation.type &lt;chr&gt; | categories[0].key &lt;chr&gt; | categories[0].title &lt;chr&gt; | categories[0].description &lt;chr&gt; | categories[0].imageUrl &lt;chr&gt; | categories[0].seoImageUrl &lt;chr&gt; | categories[0].vehicleCount &lt;dbl&gt; |\n",
       "|---|---|---|---|---|---|---|---|---|---|---|---|---|---|---|---|---|---|---|---|---|\n",
       "| NA | 6 | 5.9 mi | FALSE | NA | FALSE | FALSE | 4.50 | FALSE | 15 | ⋯ | TRUE | NC | America/New_York | AIRPORT | FAMILY_FRIENDLY | Family friendly | Minivans, wagons, &amp; SUVs | https://resources.turo.com/resources/img/vehicle_categories/family_friendly.420x210.png | https://resources.turo.com/resources/img/vehicle_categories_seo/family_friendly.1280x751.jpg | 30 |\n",
       "| NA | 2 | 2.2 mi | FALSE | NA | FALSE | FALSE | 4.97 | FALSE | 34 | ⋯ | TRUE | NC | America/New_York | AIRPORT | FAMILY_FRIENDLY | Family friendly | Minivans, wagons, &amp; SUVs | https://resources.turo.com/resources/img/vehicle_categories/family_friendly.420x210.png | https://resources.turo.com/resources/img/vehicle_categories_seo/family_friendly.1280x751.jpg | 30 |\n",
       "| NA | 1 | 1.3 mi | FALSE | NA | FALSE | FALSE | 4.96 | FALSE | 26 | ⋯ | TRUE | NC | America/New_York | AIRPORT | FAMILY_FRIENDLY | Family friendly | Minivans, wagons, &amp; SUVs | https://resources.turo.com/resources/img/vehicle_categories/family_friendly.420x210.png | https://resources.turo.com/resources/img/vehicle_categories_seo/family_friendly.1280x751.jpg | 30 |\n",
       "| NA | 9 | 8.8 mi | FALSE | NA | FALSE | FALSE | 4.96 | FALSE | 67 | ⋯ | TRUE | NC | America/New_York | AIRPORT | FAMILY_FRIENDLY | Family friendly | Minivans, wagons, &amp; SUVs | https://resources.turo.com/resources/img/vehicle_categories/family_friendly.420x210.png | https://resources.turo.com/resources/img/vehicle_categories_seo/family_friendly.1280x751.jpg | 30 |\n",
       "| NA | 4 | 3.5 mi | FALSE | NA | FALSE | FALSE | 5.00 | FALSE | 12 | ⋯ | TRUE | NC | America/New_York | AIRPORT | FAMILY_FRIENDLY | Family friendly | Minivans, wagons, &amp; SUVs | https://resources.turo.com/resources/img/vehicle_categories/family_friendly.420x210.png | https://resources.turo.com/resources/img/vehicle_categories_seo/family_friendly.1280x751.jpg | 30 |\n",
       "| NA | 2 | 2.2 mi | FALSE | NA | FALSE |  TRUE | 5.00 | FALSE |  3 | ⋯ | TRUE | NC | America/New_York | AIRPORT | FAMILY_FRIENDLY | Family friendly | Minivans, wagons, &amp; SUVs | https://resources.turo.com/resources/img/vehicle_categories/family_friendly.420x210.png | https://resources.turo.com/resources/img/vehicle_categories_seo/family_friendly.1280x751.jpg | 30 |\n",
       "\n"
      ],
      "text/plain": [
       "  list.deliveryLabel list.distance list.distanceLabel\n",
       "1 NA                 6             5.9 mi            \n",
       "2 NA                 2             2.2 mi            \n",
       "3 NA                 1             1.3 mi            \n",
       "4 NA                 9             8.8 mi            \n",
       "5 NA                 4             3.5 mi            \n",
       "6 NA                 2             2.2 mi            \n",
       "  list.freeDeliveryPromotion list.fuelType list.instantBookDisplayed\n",
       "1 FALSE                      NA            FALSE                    \n",
       "2 FALSE                      NA            FALSE                    \n",
       "3 FALSE                      NA            FALSE                    \n",
       "4 FALSE                      NA            FALSE                    \n",
       "5 FALSE                      NA            FALSE                    \n",
       "6 FALSE                      NA            FALSE                    \n",
       "  list.newListing list.rating list.rentableFromSearchedAirport\n",
       "1 FALSE           4.50        FALSE                           \n",
       "2 FALSE           4.97        FALSE                           \n",
       "3 FALSE           4.96        FALSE                           \n",
       "4 FALSE           4.96        FALSE                           \n",
       "5 FALSE           5.00        FALSE                           \n",
       "6  TRUE           5.00        FALSE                           \n",
       "  list.renterTripsTaken ⋯ searchLocation.operational searchLocation.regionCode\n",
       "1 15                    ⋯ TRUE                       NC                       \n",
       "2 34                    ⋯ TRUE                       NC                       \n",
       "3 26                    ⋯ TRUE                       NC                       \n",
       "4 67                    ⋯ TRUE                       NC                       \n",
       "5 12                    ⋯ TRUE                       NC                       \n",
       "6  3                    ⋯ TRUE                       NC                       \n",
       "  searchLocation.timeZone searchLocation.type categories[0].key\n",
       "1 America/New_York        AIRPORT             FAMILY_FRIENDLY  \n",
       "2 America/New_York        AIRPORT             FAMILY_FRIENDLY  \n",
       "3 America/New_York        AIRPORT             FAMILY_FRIENDLY  \n",
       "4 America/New_York        AIRPORT             FAMILY_FRIENDLY  \n",
       "5 America/New_York        AIRPORT             FAMILY_FRIENDLY  \n",
       "6 America/New_York        AIRPORT             FAMILY_FRIENDLY  \n",
       "  categories[0].title categories[0].description\n",
       "1 Family friendly     Minivans, wagons, & SUVs \n",
       "2 Family friendly     Minivans, wagons, & SUVs \n",
       "3 Family friendly     Minivans, wagons, & SUVs \n",
       "4 Family friendly     Minivans, wagons, & SUVs \n",
       "5 Family friendly     Minivans, wagons, & SUVs \n",
       "6 Family friendly     Minivans, wagons, & SUVs \n",
       "  categories[0].imageUrl                                                                 \n",
       "1 https://resources.turo.com/resources/img/vehicle_categories/family_friendly.420x210.png\n",
       "2 https://resources.turo.com/resources/img/vehicle_categories/family_friendly.420x210.png\n",
       "3 https://resources.turo.com/resources/img/vehicle_categories/family_friendly.420x210.png\n",
       "4 https://resources.turo.com/resources/img/vehicle_categories/family_friendly.420x210.png\n",
       "5 https://resources.turo.com/resources/img/vehicle_categories/family_friendly.420x210.png\n",
       "6 https://resources.turo.com/resources/img/vehicle_categories/family_friendly.420x210.png\n",
       "  categories[0].seoImageUrl                                                                   \n",
       "1 https://resources.turo.com/resources/img/vehicle_categories_seo/family_friendly.1280x751.jpg\n",
       "2 https://resources.turo.com/resources/img/vehicle_categories_seo/family_friendly.1280x751.jpg\n",
       "3 https://resources.turo.com/resources/img/vehicle_categories_seo/family_friendly.1280x751.jpg\n",
       "4 https://resources.turo.com/resources/img/vehicle_categories_seo/family_friendly.1280x751.jpg\n",
       "5 https://resources.turo.com/resources/img/vehicle_categories_seo/family_friendly.1280x751.jpg\n",
       "6 https://resources.turo.com/resources/img/vehicle_categories_seo/family_friendly.1280x751.jpg\n",
       "  categories[0].vehicleCount\n",
       "1 30                        \n",
       "2 30                        \n",
       "3 30                        \n",
       "4 30                        \n",
       "5 30                        \n",
       "6 30                        "
      ]
     },
     "metadata": {},
     "output_type": "display_data"
    }
   ],
   "source": [
    "head(Turo)"
   ]
  },
  {
   "cell_type": "markdown",
   "id": "af75245f",
   "metadata": {},
   "source": [
    "Keeping the columns needed"
   ]
  },
  {
   "cell_type": "code",
   "execution_count": 6,
   "id": "68b132f2",
   "metadata": {},
   "outputs": [],
   "source": [
    "Turo1=subset(Turo, select=c(2,4,7,8,9,10,13,14,22,27,34,47,48,49,50,52,60,61,64,67,70,153))"
   ]
  },
  {
   "cell_type": "code",
   "execution_count": 7,
   "id": "92aebce0",
   "metadata": {},
   "outputs": [
    {
     "data": {
      "text/html": [
       "<style>\n",
       ".list-inline {list-style: none; margin:0; padding: 0}\n",
       ".list-inline>li {display: inline-block}\n",
       ".list-inline>li:not(:last-child)::after {content: \"\\00b7\"; padding: 0 .5ex}\n",
       "</style>\n",
       "<ol class=list-inline><li>'list.distance'</li><li>'list.freeDeliveryPromotion'</li><li>'list.newListing'</li><li>'list.rating'</li><li>'list.rentableFromSearchedAirport'</li><li>'list.renterTripsTaken'</li><li>'list.reviewCount'</li><li>'list.turoGo'</li><li>'list.location.city'</li><li>'list.location.state'</li><li>'list.owner.allStarHost'</li><li>'list.rate.averageDailyPrice'</li><li>'list.rate.daily'</li><li>'list.rate.discountSavingsText'</li><li>'list.rate.monthly'</li><li>'list.rate.weekly'</li><li>'list.vehicle.listingCreatedTime'</li><li>'list.vehicle.make'</li><li>'list.vehicle.model'</li><li>'list.vehicle.type'</li><li>'list.vehicle.year'</li><li>'searchLocation.address'</li></ol>\n"
      ],
      "text/latex": [
       "\\begin{enumerate*}\n",
       "\\item 'list.distance'\n",
       "\\item 'list.freeDeliveryPromotion'\n",
       "\\item 'list.newListing'\n",
       "\\item 'list.rating'\n",
       "\\item 'list.rentableFromSearchedAirport'\n",
       "\\item 'list.renterTripsTaken'\n",
       "\\item 'list.reviewCount'\n",
       "\\item 'list.turoGo'\n",
       "\\item 'list.location.city'\n",
       "\\item 'list.location.state'\n",
       "\\item 'list.owner.allStarHost'\n",
       "\\item 'list.rate.averageDailyPrice'\n",
       "\\item 'list.rate.daily'\n",
       "\\item 'list.rate.discountSavingsText'\n",
       "\\item 'list.rate.monthly'\n",
       "\\item 'list.rate.weekly'\n",
       "\\item 'list.vehicle.listingCreatedTime'\n",
       "\\item 'list.vehicle.make'\n",
       "\\item 'list.vehicle.model'\n",
       "\\item 'list.vehicle.type'\n",
       "\\item 'list.vehicle.year'\n",
       "\\item 'searchLocation.address'\n",
       "\\end{enumerate*}\n"
      ],
      "text/markdown": [
       "1. 'list.distance'\n",
       "2. 'list.freeDeliveryPromotion'\n",
       "3. 'list.newListing'\n",
       "4. 'list.rating'\n",
       "5. 'list.rentableFromSearchedAirport'\n",
       "6. 'list.renterTripsTaken'\n",
       "7. 'list.reviewCount'\n",
       "8. 'list.turoGo'\n",
       "9. 'list.location.city'\n",
       "10. 'list.location.state'\n",
       "11. 'list.owner.allStarHost'\n",
       "12. 'list.rate.averageDailyPrice'\n",
       "13. 'list.rate.daily'\n",
       "14. 'list.rate.discountSavingsText'\n",
       "15. 'list.rate.monthly'\n",
       "16. 'list.rate.weekly'\n",
       "17. 'list.vehicle.listingCreatedTime'\n",
       "18. 'list.vehicle.make'\n",
       "19. 'list.vehicle.model'\n",
       "20. 'list.vehicle.type'\n",
       "21. 'list.vehicle.year'\n",
       "22. 'searchLocation.address'\n",
       "\n",
       "\n"
      ],
      "text/plain": [
       " [1] \"list.distance\"                    \"list.freeDeliveryPromotion\"      \n",
       " [3] \"list.newListing\"                  \"list.rating\"                     \n",
       " [5] \"list.rentableFromSearchedAirport\" \"list.renterTripsTaken\"           \n",
       " [7] \"list.reviewCount\"                 \"list.turoGo\"                     \n",
       " [9] \"list.location.city\"               \"list.location.state\"             \n",
       "[11] \"list.owner.allStarHost\"           \"list.rate.averageDailyPrice\"     \n",
       "[13] \"list.rate.daily\"                  \"list.rate.discountSavingsText\"   \n",
       "[15] \"list.rate.monthly\"                \"list.rate.weekly\"                \n",
       "[17] \"list.vehicle.listingCreatedTime\"  \"list.vehicle.make\"               \n",
       "[19] \"list.vehicle.model\"               \"list.vehicle.type\"               \n",
       "[21] \"list.vehicle.year\"                \"searchLocation.address\"          "
      ]
     },
     "metadata": {},
     "output_type": "display_data"
    }
   ],
   "source": [
    "colnames(Turo1)"
   ]
  },
  {
   "cell_type": "markdown",
   "id": "ec0e9f0a",
   "metadata": {},
   "source": [
    "Finding the values in the columns of the dataset to decide on descriptions"
   ]
  },
  {
   "cell_type": "code",
   "execution_count": 8,
   "id": "dc81dafd",
   "metadata": {},
   "outputs": [
    {
     "data": {
      "text/html": [
       "5"
      ],
      "text/latex": [
       "5"
      ],
      "text/markdown": [
       "5"
      ],
      "text/plain": [
       "[1] 5"
      ]
     },
     "metadata": {},
     "output_type": "display_data"
    }
   ],
   "source": [
    "length(unique(Turo1$'list.vehicle.type'))"
   ]
  },
  {
   "cell_type": "code",
   "execution_count": 9,
   "id": "efca3bfc",
   "metadata": {},
   "outputs": [
    {
     "data": {
      "text/html": [
       "38"
      ],
      "text/latex": [
       "38"
      ],
      "text/markdown": [
       "38"
      ],
      "text/plain": [
       "[1] 38"
      ]
     },
     "metadata": {},
     "output_type": "display_data"
    }
   ],
   "source": [
    "length(unique(Turo1$'list.vehicle.make'))"
   ]
  },
  {
   "cell_type": "code",
   "execution_count": 10,
   "id": "77b16ad2",
   "metadata": {},
   "outputs": [
    {
     "data": {
      "text/html": [
       "175"
      ],
      "text/latex": [
       "175"
      ],
      "text/markdown": [
       "175"
      ],
      "text/plain": [
       "[1] 175"
      ]
     },
     "metadata": {},
     "output_type": "display_data"
    }
   ],
   "source": [
    "length(unique(Turo1$'list.vehicle.model'))"
   ]
  },
  {
   "cell_type": "code",
   "execution_count": 11,
   "id": "844397da",
   "metadata": {},
   "outputs": [
    {
     "data": {
      "text/html": [
       "97"
      ],
      "text/latex": [
       "97"
      ],
      "text/markdown": [
       "97"
      ],
      "text/plain": [
       "[1] 97"
      ]
     },
     "metadata": {},
     "output_type": "display_data"
    }
   ],
   "source": [
    "length(unique(Turo1$'list.location.city'))"
   ]
  },
  {
   "cell_type": "code",
   "execution_count": 12,
   "id": "e78bf312",
   "metadata": {},
   "outputs": [
    {
     "data": {
      "text/html": [
       "5"
      ],
      "text/latex": [
       "5"
      ],
      "text/markdown": [
       "5"
      ],
      "text/plain": [
       "[1] 5"
      ]
     },
     "metadata": {},
     "output_type": "display_data"
    }
   ],
   "source": [
    "length(unique(Turo1$'list.location.state'))"
   ]
  },
  {
   "cell_type": "code",
   "execution_count": 13,
   "id": "9a6cd24f",
   "metadata": {},
   "outputs": [
    {
     "data": {
      "text/html": [
       "2"
      ],
      "text/latex": [
       "2"
      ],
      "text/markdown": [
       "2"
      ],
      "text/plain": [
       "[1] 2"
      ]
     },
     "metadata": {},
     "output_type": "display_data"
    }
   ],
   "source": [
    "length(unique(Turo1$list.turoGo))"
   ]
  },
  {
   "cell_type": "code",
   "execution_count": 14,
   "id": "03e8306f",
   "metadata": {},
   "outputs": [
    {
     "data": {
      "text/html": [
       "2"
      ],
      "text/latex": [
       "2"
      ],
      "text/markdown": [
       "2"
      ],
      "text/plain": [
       "[1] 2"
      ]
     },
     "metadata": {},
     "output_type": "display_data"
    }
   ],
   "source": [
    "length(unique(Turo1$list.owner.allStarHost))"
   ]
  },
  {
   "cell_type": "code",
   "execution_count": 15,
   "id": "8515be86",
   "metadata": {},
   "outputs": [
    {
     "data": {
      "text/html": [
       "2"
      ],
      "text/latex": [
       "2"
      ],
      "text/markdown": [
       "2"
      ],
      "text/plain": [
       "[1] 2"
      ]
     },
     "metadata": {},
     "output_type": "display_data"
    }
   ],
   "source": [
    "length(unique(Turo1$list.newListing))"
   ]
  },
  {
   "cell_type": "code",
   "execution_count": 16,
   "id": "428ed0dd",
   "metadata": {},
   "outputs": [
    {
     "data": {
      "text/html": [
       "26"
      ],
      "text/latex": [
       "26"
      ],
      "text/markdown": [
       "26"
      ],
      "text/plain": [
       "[1] 26"
      ]
     },
     "metadata": {},
     "output_type": "display_data"
    }
   ],
   "source": [
    "length(unique(Turo1$list.rating))"
   ]
  },
  {
   "cell_type": "code",
   "execution_count": 17,
   "id": "c133ee85",
   "metadata": {},
   "outputs": [
    {
     "data": {
      "text/html": [
       "55"
      ],
      "text/latex": [
       "55"
      ],
      "text/markdown": [
       "55"
      ],
      "text/plain": [
       "[1] 55"
      ]
     },
     "metadata": {},
     "output_type": "display_data"
    }
   ],
   "source": [
    "length(unique(Turo1$list.renterTripsTaken))"
   ]
  },
  {
   "cell_type": "markdown",
   "id": "88aa0cd1",
   "metadata": {},
   "source": [
    "Renaming Columns"
   ]
  },
  {
   "cell_type": "code",
   "execution_count": 18,
   "id": "d0aabeca",
   "metadata": {},
   "outputs": [],
   "source": [
    "names(Turo1)[names(Turo1) == \"list.renterTripsTaken\"] <- \"TripsTaken\""
   ]
  },
  {
   "cell_type": "code",
   "execution_count": 19,
   "id": "691c78ba",
   "metadata": {},
   "outputs": [],
   "source": [
    "names(Turo1)[names(Turo1) == \"list.rating\"] <- \"Rating\""
   ]
  },
  {
   "cell_type": "code",
   "execution_count": 20,
   "id": "cb7cd003",
   "metadata": {},
   "outputs": [],
   "source": [
    "names(Turo1)[names(Turo1) == \"list.newListing\"] <- \"NewListingTF\""
   ]
  },
  {
   "cell_type": "code",
   "execution_count": 21,
   "id": "944e3dc7",
   "metadata": {},
   "outputs": [],
   "source": [
    "names(Turo1)[names(Turo1) == \"list.owner.allStarHost\"] <- \"AllStarHostTF\""
   ]
  },
  {
   "cell_type": "code",
   "execution_count": 22,
   "id": "957b4cf7",
   "metadata": {},
   "outputs": [],
   "source": [
    "names(Turo1)[names(Turo1) == \"list.turoGo\"] <- \"TuroGoTF\""
   ]
  },
  {
   "cell_type": "code",
   "execution_count": 23,
   "id": "e5c6f234",
   "metadata": {},
   "outputs": [],
   "source": [
    "names(Turo1)[names(Turo1) == \"list.location.state\"] <- \"State\""
   ]
  },
  {
   "cell_type": "code",
   "execution_count": 24,
   "id": "bcfeb661",
   "metadata": {},
   "outputs": [],
   "source": [
    "names(Turo1)[names(Turo1) == \"list.location.city\"] <- \"City\""
   ]
  },
  {
   "cell_type": "code",
   "execution_count": 25,
   "id": "c676a8f2",
   "metadata": {},
   "outputs": [],
   "source": [
    "names(Turo1)[names(Turo1) == \"list.vehicle.model\"] <- \"VehicleModel\""
   ]
  },
  {
   "cell_type": "code",
   "execution_count": 26,
   "id": "c70bddff",
   "metadata": {},
   "outputs": [],
   "source": [
    "names(Turo1)[names(Turo1) == \"list.vehicle.make\"] <- \"VehicleMake\""
   ]
  },
  {
   "cell_type": "code",
   "execution_count": 27,
   "id": "13926a86",
   "metadata": {},
   "outputs": [],
   "source": [
    "names(Turo1)[names(Turo1) == \"list.vehicle.type\"] <- \"VehicleType\""
   ]
  },
  {
   "cell_type": "code",
   "execution_count": 28,
   "id": "c903d691",
   "metadata": {},
   "outputs": [],
   "source": [
    "names(Turo1)[names(Turo1) == \"list.distance\"] <- \"Distance\""
   ]
  },
  {
   "cell_type": "code",
   "execution_count": 29,
   "id": "83fdf1c9",
   "metadata": {},
   "outputs": [],
   "source": [
    "names(Turo1)[names(Turo1) == \"list.freeDeliveryPromotion\"] <- \"PromotionTF\""
   ]
  },
  {
   "cell_type": "code",
   "execution_count": 30,
   "id": "50053145",
   "metadata": {},
   "outputs": [],
   "source": [
    "names(Turo1)[names(Turo1) == \"list.rentableFromSearchedAirport\"] <- \"FromAirportTF\""
   ]
  },
  {
   "cell_type": "code",
   "execution_count": 31,
   "id": "5276c75e",
   "metadata": {},
   "outputs": [],
   "source": [
    "names(Turo1)[names(Turo1) == \"list.reviewCount\"] <- \"ReviewCount\""
   ]
  },
  {
   "cell_type": "code",
   "execution_count": 32,
   "id": "29c9350e",
   "metadata": {},
   "outputs": [],
   "source": [
    "names(Turo1)[names(Turo1) == \"list.rate.averageDailyPrice\"] <- \"AvgDailyPrice\""
   ]
  },
  {
   "cell_type": "code",
   "execution_count": 33,
   "id": "97bb3f66",
   "metadata": {},
   "outputs": [],
   "source": [
    "names(Turo1)[names(Turo1) == \"list.rate.daily\"] <- \"DailyRate\""
   ]
  },
  {
   "cell_type": "code",
   "execution_count": 34,
   "id": "d2b23915",
   "metadata": {},
   "outputs": [],
   "source": [
    "names(Turo1)[names(Turo1) == \"list.rate.discountSavingsText\"] <- \"DiscountSavingsText\""
   ]
  },
  {
   "cell_type": "code",
   "execution_count": 35,
   "id": "19920535",
   "metadata": {},
   "outputs": [],
   "source": [
    "names(Turo1)[names(Turo1) == \"list.rate.monthly\"] <- \"MonthlyRate\""
   ]
  },
  {
   "cell_type": "code",
   "execution_count": 36,
   "id": "b0ce36e4",
   "metadata": {},
   "outputs": [],
   "source": [
    "names(Turo1)[names(Turo1) == \"list.rate.weekly\"] <- \"WeeklyRate\""
   ]
  },
  {
   "cell_type": "code",
   "execution_count": 37,
   "id": "11ebc92f",
   "metadata": {},
   "outputs": [],
   "source": [
    "names(Turo1)[names(Turo1) == \"list.vehicle.listingCreatedTime\"] <- \"CreatedTime\""
   ]
  },
  {
   "cell_type": "code",
   "execution_count": 38,
   "id": "b037bf08",
   "metadata": {},
   "outputs": [],
   "source": [
    "names(Turo1)[names(Turo1) == \"list.vehicle.year\"] <- \"VehicleYear\""
   ]
  },
  {
   "cell_type": "code",
   "execution_count": 39,
   "id": "0727169c",
   "metadata": {},
   "outputs": [],
   "source": [
    "names(Turo1)[names(Turo1) == \"searchLocation.address\"] <- \"LocationAddress\""
   ]
  },
  {
   "cell_type": "markdown",
   "id": "f992216e",
   "metadata": {},
   "source": [
    "Looking at the Changes to make sure they were correct"
   ]
  },
  {
   "cell_type": "code",
   "execution_count": 40,
   "id": "7be317dd",
   "metadata": {},
   "outputs": [
    {
     "data": {
      "text/html": [
       "<table class=\"dataframe\">\n",
       "<caption>A tibble: 6 × 22</caption>\n",
       "<thead>\n",
       "\t<tr><th scope=col>Distance</th><th scope=col>PromotionTF</th><th scope=col>NewListingTF</th><th scope=col>Rating</th><th scope=col>FromAirportTF</th><th scope=col>TripsTaken</th><th scope=col>ReviewCount</th><th scope=col>TuroGoTF</th><th scope=col>City</th><th scope=col>State</th><th scope=col>⋯</th><th scope=col>DailyRate</th><th scope=col>DiscountSavingsText</th><th scope=col>MonthlyRate</th><th scope=col>WeeklyRate</th><th scope=col>CreatedTime</th><th scope=col>VehicleMake</th><th scope=col>VehicleModel</th><th scope=col>VehicleType</th><th scope=col>VehicleYear</th><th scope=col>LocationAddress</th></tr>\n",
       "\t<tr><th scope=col>&lt;dbl&gt;</th><th scope=col>&lt;lgl&gt;</th><th scope=col>&lt;lgl&gt;</th><th scope=col>&lt;dbl&gt;</th><th scope=col>&lt;lgl&gt;</th><th scope=col>&lt;dbl&gt;</th><th scope=col>&lt;dbl&gt;</th><th scope=col>&lt;lgl&gt;</th><th scope=col>&lt;chr&gt;</th><th scope=col>&lt;chr&gt;</th><th scope=col>⋯</th><th scope=col>&lt;dbl&gt;</th><th scope=col>&lt;chr&gt;</th><th scope=col>&lt;dbl&gt;</th><th scope=col>&lt;dbl&gt;</th><th scope=col>&lt;dbl&gt;</th><th scope=col>&lt;chr&gt;</th><th scope=col>&lt;chr&gt;</th><th scope=col>&lt;chr&gt;</th><th scope=col>&lt;dbl&gt;</th><th scope=col>&lt;chr&gt;</th></tr>\n",
       "</thead>\n",
       "<tbody>\n",
       "\t<tr><td>6</td><td>FALSE</td><td>FALSE</td><td>4.50</td><td>FALSE</td><td>15</td><td>0</td><td> TRUE</td><td>Cary       </td><td>NC</td><td>⋯</td><td>262</td><td>Save $264</td><td>0.35</td><td>0.30</td><td>1645579038</td><td>Tesla </td><td>Model S  </td><td>car</td><td>2021</td><td>Morrisville, Raleigh-Durham International Airport</td></tr>\n",
       "\t<tr><td>2</td><td>FALSE</td><td>FALSE</td><td>4.97</td><td>FALSE</td><td>34</td><td>0</td><td>FALSE</td><td>Raleigh    </td><td>NC</td><td>⋯</td><td> 68</td><td>Save $21 </td><td>0.35</td><td>0.12</td><td>1645494742</td><td>Subaru</td><td>Crosstrek</td><td>suv</td><td>2022</td><td>Morrisville, Raleigh-Durham International Airport</td></tr>\n",
       "\t<tr><td>1</td><td>FALSE</td><td>FALSE</td><td>4.96</td><td>FALSE</td><td>26</td><td>0</td><td>FALSE</td><td>Morrisville</td><td>NC</td><td>⋯</td><td>108</td><td>Save $36 </td><td>0.30</td><td>0.15</td><td>1641442892</td><td>Toyota</td><td>4Runner  </td><td>suv</td><td>2021</td><td>Morrisville, Raleigh-Durham International Airport</td></tr>\n",
       "\t<tr><td>9</td><td>FALSE</td><td>FALSE</td><td>4.96</td><td>FALSE</td><td>67</td><td>0</td><td> TRUE</td><td>Raleigh    </td><td>NC</td><td>⋯</td><td>135</td><td>Save $45 </td><td>0.30</td><td>0.15</td><td>1622862263</td><td>Tesla </td><td>Model X  </td><td>suv</td><td>2017</td><td>Morrisville, Raleigh-Durham International Airport</td></tr>\n",
       "\t<tr><td>4</td><td>FALSE</td><td>FALSE</td><td>5.00</td><td>FALSE</td><td>12</td><td>0</td><td>FALSE</td><td>Durham     </td><td>NC</td><td>⋯</td><td>131</td><td>NA       </td><td>0.05</td><td>0.00</td><td>1624658223</td><td>BMW   </td><td>5 Series </td><td>car</td><td>2018</td><td>Morrisville, Raleigh-Durham International Airport</td></tr>\n",
       "\t<tr><td>2</td><td>FALSE</td><td> TRUE</td><td>5.00</td><td>FALSE</td><td> 3</td><td>0</td><td>FALSE</td><td>Raleigh    </td><td>NC</td><td>⋯</td><td> 68</td><td>Save $21 </td><td>0.30</td><td>0.15</td><td>1657142382</td><td>Subaru</td><td>Crosstrek</td><td>suv</td><td>2022</td><td>Morrisville, Raleigh-Durham International Airport</td></tr>\n",
       "</tbody>\n",
       "</table>\n"
      ],
      "text/latex": [
       "A tibble: 6 × 22\n",
       "\\begin{tabular}{lllllllllllllllllllll}\n",
       " Distance & PromotionTF & NewListingTF & Rating & FromAirportTF & TripsTaken & ReviewCount & TuroGoTF & City & State & ⋯ & DailyRate & DiscountSavingsText & MonthlyRate & WeeklyRate & CreatedTime & VehicleMake & VehicleModel & VehicleType & VehicleYear & LocationAddress\\\\\n",
       " <dbl> & <lgl> & <lgl> & <dbl> & <lgl> & <dbl> & <dbl> & <lgl> & <chr> & <chr> & ⋯ & <dbl> & <chr> & <dbl> & <dbl> & <dbl> & <chr> & <chr> & <chr> & <dbl> & <chr>\\\\\n",
       "\\hline\n",
       "\t 6 & FALSE & FALSE & 4.50 & FALSE & 15 & 0 &  TRUE & Cary        & NC & ⋯ & 262 & Save \\$264 & 0.35 & 0.30 & 1645579038 & Tesla  & Model S   & car & 2021 & Morrisville, Raleigh-Durham International Airport\\\\\n",
       "\t 2 & FALSE & FALSE & 4.97 & FALSE & 34 & 0 & FALSE & Raleigh     & NC & ⋯ &  68 & Save \\$21  & 0.35 & 0.12 & 1645494742 & Subaru & Crosstrek & suv & 2022 & Morrisville, Raleigh-Durham International Airport\\\\\n",
       "\t 1 & FALSE & FALSE & 4.96 & FALSE & 26 & 0 & FALSE & Morrisville & NC & ⋯ & 108 & Save \\$36  & 0.30 & 0.15 & 1641442892 & Toyota & 4Runner   & suv & 2021 & Morrisville, Raleigh-Durham International Airport\\\\\n",
       "\t 9 & FALSE & FALSE & 4.96 & FALSE & 67 & 0 &  TRUE & Raleigh     & NC & ⋯ & 135 & Save \\$45  & 0.30 & 0.15 & 1622862263 & Tesla  & Model X   & suv & 2017 & Morrisville, Raleigh-Durham International Airport\\\\\n",
       "\t 4 & FALSE & FALSE & 5.00 & FALSE & 12 & 0 & FALSE & Durham      & NC & ⋯ & 131 & NA        & 0.05 & 0.00 & 1624658223 & BMW    & 5 Series  & car & 2018 & Morrisville, Raleigh-Durham International Airport\\\\\n",
       "\t 2 & FALSE &  TRUE & 5.00 & FALSE &  3 & 0 & FALSE & Raleigh     & NC & ⋯ &  68 & Save \\$21  & 0.30 & 0.15 & 1657142382 & Subaru & Crosstrek & suv & 2022 & Morrisville, Raleigh-Durham International Airport\\\\\n",
       "\\end{tabular}\n"
      ],
      "text/markdown": [
       "\n",
       "A tibble: 6 × 22\n",
       "\n",
       "| Distance &lt;dbl&gt; | PromotionTF &lt;lgl&gt; | NewListingTF &lt;lgl&gt; | Rating &lt;dbl&gt; | FromAirportTF &lt;lgl&gt; | TripsTaken &lt;dbl&gt; | ReviewCount &lt;dbl&gt; | TuroGoTF &lt;lgl&gt; | City &lt;chr&gt; | State &lt;chr&gt; | ⋯ ⋯ | DailyRate &lt;dbl&gt; | DiscountSavingsText &lt;chr&gt; | MonthlyRate &lt;dbl&gt; | WeeklyRate &lt;dbl&gt; | CreatedTime &lt;dbl&gt; | VehicleMake &lt;chr&gt; | VehicleModel &lt;chr&gt; | VehicleType &lt;chr&gt; | VehicleYear &lt;dbl&gt; | LocationAddress &lt;chr&gt; |\n",
       "|---|---|---|---|---|---|---|---|---|---|---|---|---|---|---|---|---|---|---|---|---|\n",
       "| 6 | FALSE | FALSE | 4.50 | FALSE | 15 | 0 |  TRUE | Cary        | NC | ⋯ | 262 | Save $264 | 0.35 | 0.30 | 1645579038 | Tesla  | Model S   | car | 2021 | Morrisville, Raleigh-Durham International Airport |\n",
       "| 2 | FALSE | FALSE | 4.97 | FALSE | 34 | 0 | FALSE | Raleigh     | NC | ⋯ |  68 | Save $21  | 0.35 | 0.12 | 1645494742 | Subaru | Crosstrek | suv | 2022 | Morrisville, Raleigh-Durham International Airport |\n",
       "| 1 | FALSE | FALSE | 4.96 | FALSE | 26 | 0 | FALSE | Morrisville | NC | ⋯ | 108 | Save $36  | 0.30 | 0.15 | 1641442892 | Toyota | 4Runner   | suv | 2021 | Morrisville, Raleigh-Durham International Airport |\n",
       "| 9 | FALSE | FALSE | 4.96 | FALSE | 67 | 0 |  TRUE | Raleigh     | NC | ⋯ | 135 | Save $45  | 0.30 | 0.15 | 1622862263 | Tesla  | Model X   | suv | 2017 | Morrisville, Raleigh-Durham International Airport |\n",
       "| 4 | FALSE | FALSE | 5.00 | FALSE | 12 | 0 | FALSE | Durham      | NC | ⋯ | 131 | NA        | 0.05 | 0.00 | 1624658223 | BMW    | 5 Series  | car | 2018 | Morrisville, Raleigh-Durham International Airport |\n",
       "| 2 | FALSE |  TRUE | 5.00 | FALSE |  3 | 0 | FALSE | Raleigh     | NC | ⋯ |  68 | Save $21  | 0.30 | 0.15 | 1657142382 | Subaru | Crosstrek | suv | 2022 | Morrisville, Raleigh-Durham International Airport |\n",
       "\n"
      ],
      "text/plain": [
       "  Distance PromotionTF NewListingTF Rating FromAirportTF TripsTaken ReviewCount\n",
       "1 6        FALSE       FALSE        4.50   FALSE         15         0          \n",
       "2 2        FALSE       FALSE        4.97   FALSE         34         0          \n",
       "3 1        FALSE       FALSE        4.96   FALSE         26         0          \n",
       "4 9        FALSE       FALSE        4.96   FALSE         67         0          \n",
       "5 4        FALSE       FALSE        5.00   FALSE         12         0          \n",
       "6 2        FALSE        TRUE        5.00   FALSE          3         0          \n",
       "  TuroGoTF City        State ⋯ DailyRate DiscountSavingsText MonthlyRate\n",
       "1  TRUE    Cary        NC    ⋯ 262       Save $264           0.35       \n",
       "2 FALSE    Raleigh     NC    ⋯  68       Save $21            0.35       \n",
       "3 FALSE    Morrisville NC    ⋯ 108       Save $36            0.30       \n",
       "4  TRUE    Raleigh     NC    ⋯ 135       Save $45            0.30       \n",
       "5 FALSE    Durham      NC    ⋯ 131       NA                  0.05       \n",
       "6 FALSE    Raleigh     NC    ⋯  68       Save $21            0.30       \n",
       "  WeeklyRate CreatedTime VehicleMake VehicleModel VehicleType VehicleYear\n",
       "1 0.30       1645579038  Tesla       Model S      car         2021       \n",
       "2 0.12       1645494742  Subaru      Crosstrek    suv         2022       \n",
       "3 0.15       1641442892  Toyota      4Runner      suv         2021       \n",
       "4 0.15       1622862263  Tesla       Model X      suv         2017       \n",
       "5 0.00       1624658223  BMW         5 Series     car         2018       \n",
       "6 0.15       1657142382  Subaru      Crosstrek    suv         2022       \n",
       "  LocationAddress                                  \n",
       "1 Morrisville, Raleigh-Durham International Airport\n",
       "2 Morrisville, Raleigh-Durham International Airport\n",
       "3 Morrisville, Raleigh-Durham International Airport\n",
       "4 Morrisville, Raleigh-Durham International Airport\n",
       "5 Morrisville, Raleigh-Durham International Airport\n",
       "6 Morrisville, Raleigh-Durham International Airport"
      ]
     },
     "metadata": {},
     "output_type": "display_data"
    }
   ],
   "source": [
    "head(Turo1)"
   ]
  },
  {
   "cell_type": "markdown",
   "id": "c14af324",
   "metadata": {},
   "source": [
    "Dropping Vehicle Make cars with numbers under 35"
   ]
  },
  {
   "cell_type": "code",
   "execution_count": 41,
   "id": "8b22da59",
   "metadata": {},
   "outputs": [
    {
     "data": {
      "text/plain": [
       "\n",
       "        Acura          Audi       Bentley           BMW         Buick \n",
       "            3            39             2            84             4 \n",
       "     Cadillac     Chevrolet      Chrysler         Dodge          Ford \n",
       "            5            60            12            35            35 \n",
       "      Genesis           GMC         Honda       Hyundai      Infiniti \n",
       "            1            18            25            11             4 \n",
       "     INFINITI        Jaguar          Jeep           Kia    Land Rover \n",
       "            2            15            52            23            16 \n",
       "        Lexus      Maserati         Mazda Mercedes-benz Mercedes-Benz \n",
       "           36             7            11            11            51 \n",
       "         MINI    Mitsubishi        Nissan       Polaris      Polestar \n",
       "            1             2            28            19             3 \n",
       "      Porsche           Ram   Rolls Royce        Subaru         Tesla \n",
       "           36             5             3            14            62 \n",
       "       Toyota    Volkswagen         Volvo \n",
       "           56             6             7 "
      ]
     },
     "metadata": {},
     "output_type": "display_data"
    }
   ],
   "source": [
    "table(Turo1$VehicleMake)"
   ]
  },
  {
   "cell_type": "code",
   "execution_count": 42,
   "id": "5060c615",
   "metadata": {},
   "outputs": [],
   "source": [
    "Turo2<-subset(Turo1, VehicleMake!=\"Acura\" & VehicleMake!=\"Bentley\" & VehicleMake!=\"Buick\" &\n",
    "    VehicleMake!=\"Cadillac\" & VehicleMake!=\"Chrysler\" & VehicleMake!=\"Genesis\" &\n",
    "    VehicleMake!=\"GMC\" & VehicleMake!=\"Honda\" & VehicleMake!=\"Hyundai\" &\n",
    "    VehicleMake!=\"Infiniti\" & VehicleMake!=\"INFINITI\" & VehicleMake!=\"Jaguar\" &\n",
    "    VehicleMake!=\"Kia\" & VehicleMake!=\"Land Rover\" & VehicleMake!=\"Maserati\" & \n",
    "    VehicleMake!=\"Mazda\" & VehicleMake!=\"Mercedes-benz\" & VehicleMake!=\"MINI\" &\n",
    "    VehicleMake!=\"Mitsubishi\" & VehicleMake!=\"Nissan\" & VehicleMake!=\"Polaris\" &\n",
    "    VehicleMake!=\"Polestar\" & VehicleMake!=\"Ram\" & VehicleMake!=\"Rolls Royce\" &\n",
    "    VehicleMake!=\"Subaru\" & VehicleMake!=\"Volkswagen\" & VehicleMake!=\"Volvo\")"
   ]
  },
  {
   "cell_type": "markdown",
   "id": "979436e8",
   "metadata": {},
   "source": [
    "Making Histograms to see the Daily, Weekly and Monthly Rates"
   ]
  },
  {
   "cell_type": "code",
   "execution_count": 43,
   "id": "31fd0f22",
   "metadata": {},
   "outputs": [
    {
     "name": "stderr",
     "output_type": "stream",
     "text": [
      "`stat_bin()` using `bins = 30`. Pick better value with `binwidth`.\n",
      "\n"
     ]
    },
    {
     "data": {
      "image/png": "[encoded data removed]",
      "text/plain": [
       "plot without title"
      ]
     },
     "metadata": {
      "image/png": {
       "height": 420,
       "width": 420
      }
     },
     "output_type": "display_data"
    }
   ],
   "source": [
    "ggplot(data=Turo2, aes(x=DailyRate)) +\n",
    "  geom_histogram(fill=\"blue\", color=\"black\") +\n",
    "  ggtitle(\"Histogram of Listed Daily Rate Charged\")"
   ]
  },
  {
   "cell_type": "code",
   "execution_count": 44,
   "id": "c6cb8390",
   "metadata": {},
   "outputs": [
    {
     "name": "stderr",
     "output_type": "stream",
     "text": [
      "`stat_bin()` using `bins = 30`. Pick better value with `binwidth`.\n",
      "\n"
     ]
    },
    {
     "data": {
      "image/png": "[encoded data removed]",
      "text/plain": [
       "plot without title"
      ]
     },
     "metadata": {
      "image/png": {
       "height": 420,
       "width": 420
      }
     },
     "output_type": "display_data"
    }
   ],
   "source": [
    "ggplot(data=Turo2, aes(x=WeeklyRate)) +\n",
    "  geom_histogram(fill=\"red\", color=\"black\") +\n",
    "  ggtitle(\"Histogram of Listed Weekly Rate Charged\")"
   ]
  },
  {
   "cell_type": "code",
   "execution_count": 45,
   "id": "1581e6be",
   "metadata": {},
   "outputs": [
    {
     "name": "stderr",
     "output_type": "stream",
     "text": [
      "`stat_bin()` using `bins = 30`. Pick better value with `binwidth`.\n",
      "\n"
     ]
    },
    {
     "data": {
      "image/png": "[encoded data removed]",
      "text/plain": [
       "plot without title"
      ]
     },
     "metadata": {
      "image/png": {
       "height": 420,
       "width": 420
      }
     },
     "output_type": "display_data"
    }
   ],
   "source": [
    "ggplot(data=Turo2, aes(x=MonthlyRate)) +\n",
    "  geom_histogram(fill=\"purple\", color=\"black\") +\n",
    "  ggtitle(\"Histogram of Listed Monthly Rate Charged\")"
   ]
  },
  {
   "cell_type": "markdown",
   "id": "d6c82c0f",
   "metadata": {},
   "source": [
    "Made BoxPlots to look at the Daily Rate to Vehicle Type and Veicle Make"
   ]
  },
  {
   "cell_type": "code",
   "execution_count": 46,
   "id": "0c50cc68",
   "metadata": {},
   "outputs": [
    {
     "data": {
      "image/png": "[encoded data removed]",
      "text/plain": [
       "plot without title"
      ]
     },
     "metadata": {
      "image/png": {
       "height": 420,
       "width": 420
      }
     },
     "output_type": "display_data"
    }
   ],
   "source": [
    "ggplot(data=Turo2, aes(x=DailyRate, y=VehicleType)) + \n",
    "  geom_boxplot(fill=\"green\")"
   ]
  },
  {
   "cell_type": "code",
   "execution_count": 47,
   "id": "f6f7a4ed",
   "metadata": {},
   "outputs": [
    {
     "data": {
      "image/png": "[encoded data removed]",
      "text/plain": [
       "plot without title"
      ]
     },
     "metadata": {
      "image/png": {
       "height": 420,
       "width": 420
      }
     },
     "output_type": "display_data"
    }
   ],
   "source": [
    "ggplot(data=Turo2, aes(x=DailyRate, y=VehicleMake)) + \n",
    "  geom_boxplot(fill=\"yellow\")"
   ]
  },
  {
   "cell_type": "markdown",
   "id": "44392db1",
   "metadata": {},
   "source": [
    "Made a ScatterPlot to look at Weekly and Monthly Rate to Trips Taken"
   ]
  },
  {
   "cell_type": "code",
   "execution_count": 48,
   "id": "20d4e6d7",
   "metadata": {},
   "outputs": [
    {
     "data": {
      "image/png": "[encoded data removed]",
      "text/plain": [
       "plot without title"
      ]
     },
     "metadata": {
      "image/png": {
       "height": 420,
       "width": 420
      }
     },
     "output_type": "display_data"
    }
   ],
   "source": [
    "plot(x=Turo2$MonthlyRate,\n",
    "    y=Turo2$WeeklyRate,\n",
    "    col=Turo2$TripsTaken)"
   ]
  },
  {
   "cell_type": "markdown",
   "id": "28fd18df",
   "metadata": {},
   "source": [
    "Made Normality Plots to see how things were Distributed"
   ]
  },
  {
   "cell_type": "code",
   "execution_count": 49,
   "id": "49c91122",
   "metadata": {},
   "outputs": [
    {
     "data": {
      "image/png": "[encoded data removed]",
      "text/plain": [
       "plot without title"
      ]
     },
     "metadata": {
      "image/png": {
       "height": 420,
       "width": 420
      }
     },
     "output_type": "display_data"
    }
   ],
   "source": [
    "ggplot(data=Turo2, aes(x=TripsTaken, y=DiscountSavingsText)) + \n",
    "  geom_point()"
   ]
  },
  {
   "cell_type": "code",
   "execution_count": 50,
   "id": "eb1da05f",
   "metadata": {},
   "outputs": [
    {
     "data": {
      "image/png": "[encoded data removed]",
      "text/plain": [
       "plot without title"
      ]
     },
     "metadata": {
      "image/png": {
       "height": 420,
       "width": 420
      }
     },
     "output_type": "display_data"
    }
   ],
   "source": [
    "ggplot(Turo2, aes(sample = Distance)) + geom_qq()"
   ]
  },
  {
   "cell_type": "code",
   "execution_count": 51,
   "id": "250e5db1",
   "metadata": {},
   "outputs": [
    {
     "data": {
      "image/png": "[encoded data removed]",
      "text/plain": [
       "plot without title"
      ]
     },
     "metadata": {
      "image/png": {
       "height": 420,
       "width": 420
      }
     },
     "output_type": "display_data"
    }
   ],
   "source": [
    "ggplot(Turo2, aes(sample =DailyRate)) + geom_qq()"
   ]
  },
  {
   "cell_type": "markdown",
   "id": "c6d4f35d",
   "metadata": {},
   "source": [
    "Summarizing the dataset and getting the counts for the columns"
   ]
  },
  {
   "cell_type": "code",
   "execution_count": 52,
   "id": "7c7550a0",
   "metadata": {},
   "outputs": [
    {
     "name": "stdout",
     "output_type": "stream",
     "text": [
      "tibble [546 × 22] (S3: tbl_df/tbl/data.frame)\n",
      " $ Distance           : num [1:546] 6 1 9 4 0 0 3 3 2 2 ...\n",
      " $ PromotionTF        : logi [1:546] FALSE FALSE FALSE FALSE FALSE FALSE ...\n",
      " $ NewListingTF       : logi [1:546] FALSE FALSE FALSE FALSE FALSE FALSE ...\n",
      " $ Rating             : num [1:546] 4.5 4.96 4.96 5 4.91 4.5 4.95 4.92 5 NA ...\n",
      " $ FromAirportTF      : logi [1:546] FALSE FALSE FALSE FALSE FALSE FALSE ...\n",
      " $ TripsTaken         : num [1:546] 15 26 67 12 24 3 24 12 9 0 ...\n",
      " $ ReviewCount        : num [1:546] 0 0 0 0 0 0 0 0 0 0 ...\n",
      " $ TuroGoTF           : logi [1:546] TRUE FALSE TRUE FALSE FALSE FALSE ...\n",
      " $ City               : chr [1:546] \"Cary\" \"Morrisville\" \"Raleigh\" \"Durham\" ...\n",
      " $ State              : chr [1:546] \"NC\" \"NC\" \"NC\" \"NC\" ...\n",
      " $ AllStarHostTF      : logi [1:546] TRUE TRUE TRUE TRUE FALSE FALSE ...\n",
      " $ AvgDailyPrice      : num [1:546] 262 108 135 131 71 71 95 90 78 62 ...\n",
      " $ DailyRate          : num [1:546] 262 108 135 131 71 71 95 90 78 62 ...\n",
      " $ DiscountSavingsText: chr [1:546] \"Save $264\" \"Save $36\" \"Save $45\" NA ...\n",
      " $ MonthlyRate        : num [1:546] 0.35 0.3 0.3 0.05 0.12 0.05 0.1 0.3 0.1 0.3 ...\n",
      " $ WeeklyRate         : num [1:546] 0.3 0.15 0.15 0 0 0 0.05 0.15 0.05 0.15 ...\n",
      " $ CreatedTime        : num [1:546] 1.65e+09 1.64e+09 1.62e+09 1.62e+09 1.64e+09 ...\n",
      " $ VehicleMake        : chr [1:546] \"Tesla\" \"Toyota\" \"Tesla\" \"BMW\" ...\n",
      " $ VehicleModel       : chr [1:546] \"Model S\" \"4Runner\" \"Model X\" \"5 Series\" ...\n",
      " $ VehicleType        : chr [1:546] \"car\" \"suv\" \"suv\" \"car\" ...\n",
      " $ VehicleYear        : num [1:546] 2021 2021 2017 2018 2016 ...\n",
      " $ LocationAddress    : chr [1:546] \"Morrisville, Raleigh-Durham International Airport\" \"Morrisville, Raleigh-Durham International Airport\" \"Morrisville, Raleigh-Durham International Airport\" \"Morrisville, Raleigh-Durham International Airport\" ...\n"
     ]
    }
   ],
   "source": [
    "str(Turo2)"
   ]
  },
  {
   "cell_type": "code",
   "execution_count": 53,
   "id": "9d25e03a",
   "metadata": {},
   "outputs": [
    {
     "data": {
      "text/plain": [
       "    Distance     PromotionTF     NewListingTF        Rating     \n",
       " Min.   : 0.00   Mode :logical   Mode :logical   Min.   :2.000  \n",
       " 1st Qu.: 8.00   FALSE:526       FALSE:463       1st Qu.:4.978  \n",
       " Median :15.00   TRUE :20        TRUE :83        Median :5.000  \n",
       " Mean   :20.05                                   Mean   :4.954  \n",
       " 3rd Qu.:23.00                                   3rd Qu.:5.000  \n",
       " Max.   :93.00                                   Max.   :5.000  \n",
       "                                                 NA's   :134    \n",
       " FromAirportTF     TripsTaken      ReviewCount  TuroGoTF      \n",
       " Mode :logical   Min.   :  0.00   Min.   :0    Mode :logical  \n",
       " FALSE:322       1st Qu.:  1.00   1st Qu.:0    FALSE:497      \n",
       " TRUE :224       Median :  7.00   Median :0    TRUE :49       \n",
       "                 Mean   : 14.08   Mean   :0                   \n",
       "                 3rd Qu.: 21.00   3rd Qu.:0                   \n",
       "                 Max.   :118.00   Max.   :0                   \n",
       "                                                              \n",
       "     City              State           AllStarHostTF   AvgDailyPrice   \n",
       " Length:546         Length:546         Mode :logical   Min.   :  50.0  \n",
       " Class :character   Class :character   FALSE:303       1st Qu.:  86.0  \n",
       " Mode  :character   Mode  :character   TRUE :243       Median : 109.0  \n",
       "                                                       Mean   : 151.8  \n",
       "                                                       3rd Qu.: 157.8  \n",
       "                                                       Max.   :1495.0  \n",
       "                                                                       \n",
       "   DailyRate      DiscountSavingsText  MonthlyRate       WeeklyRate     \n",
       " Min.   :  50.0   Length:546          Min.   :0.0000   Min.   :0.00000  \n",
       " 1st Qu.:  86.0   Class :character    1st Qu.:0.1000   1st Qu.:0.05000  \n",
       " Median : 109.0   Mode  :character    Median :0.1800   Median :0.10000  \n",
       " Mean   : 151.8                       Mean   :0.1745   Mean   :0.09277  \n",
       " 3rd Qu.: 157.8                       3rd Qu.:0.3000   3rd Qu.:0.15000  \n",
       " Max.   :1495.0                       Max.   :0.4200   Max.   :0.30000  \n",
       "                                                                        \n",
       "  CreatedTime        VehicleMake        VehicleModel       VehicleType       \n",
       " Min.   :1.536e+09   Length:546         Length:546         Length:546        \n",
       " 1st Qu.:1.631e+09   Class :character   Class :character   Class :character  \n",
       " Median :1.645e+09   Mode  :character   Mode  :character   Mode  :character  \n",
       " Mean   :1.640e+09                                                           \n",
       " 3rd Qu.:1.654e+09                                                           \n",
       " Max.   :1.659e+09                                                           \n",
       "                                                                             \n",
       "  VehicleYear   LocationAddress   \n",
       " Min.   :1957   Length:546        \n",
       " 1st Qu.:2016   Class :character  \n",
       " Median :2018   Mode  :character  \n",
       " Mean   :2017                     \n",
       " 3rd Qu.:2020                     \n",
       " Max.   :2023                     \n",
       "                                  "
      ]
     },
     "metadata": {},
     "output_type": "display_data"
    }
   ],
   "source": [
    "summary(Turo2)"
   ]
  },
  {
   "cell_type": "code",
   "execution_count": 54,
   "id": "81fb741b",
   "metadata": {},
   "outputs": [
    {
     "data": {
      "text/plain": [
       "   Min. 1st Qu.  Median    Mean 3rd Qu.    Max. \n",
       "   50.0    86.0   109.0   151.8   157.8  1495.0 "
      ]
     },
     "metadata": {},
     "output_type": "display_data"
    }
   ],
   "source": [
    "summary(Turo2$AvgDailyPrice)"
   ]
  },
  {
   "cell_type": "code",
   "execution_count": 55,
   "id": "775fe5d3",
   "metadata": {},
   "outputs": [
    {
     "data": {
      "text/plain": [
       "   Min. 1st Qu.  Median    Mean 3rd Qu.    Max.    NA's \n",
       "  2.000   4.978   5.000   4.954   5.000   5.000     134 "
      ]
     },
     "metadata": {},
     "output_type": "display_data"
    }
   ],
   "source": [
    "summary(Turo2$Rating)"
   ]
  },
  {
   "cell_type": "markdown",
   "id": "155983e7",
   "metadata": {},
   "source": [
    "Getting the Averages for Trips Taken"
   ]
  },
  {
   "cell_type": "code",
   "execution_count": 56,
   "id": "eb282efd",
   "metadata": {},
   "outputs": [
    {
     "data": {
      "text/html": [
       "14.0805860805861"
      ],
      "text/latex": [
       "14.0805860805861"
      ],
      "text/markdown": [
       "14.0805860805861"
      ],
      "text/plain": [
       "[1] 14.08059"
      ]
     },
     "metadata": {},
     "output_type": "display_data"
    }
   ],
   "source": [
    "mean(Turo2$TripsTaken)"
   ]
  },
  {
   "cell_type": "code",
   "execution_count": 57,
   "id": "8a85d5f6",
   "metadata": {},
   "outputs": [
    {
     "data": {
      "text/html": [
       "7"
      ],
      "text/latex": [
       "7"
      ],
      "text/markdown": [
       "7"
      ],
      "text/plain": [
       "[1] 7"
      ]
     },
     "metadata": {},
     "output_type": "display_data"
    }
   ],
   "source": [
    "median(Turo2$TripsTaken)"
   ]
  },
  {
   "cell_type": "code",
   "execution_count": 58,
   "id": "6a69aea8",
   "metadata": {},
   "outputs": [
    {
     "data": {
      "text/html": [
       "19.2314943439596"
      ],
      "text/latex": [
       "19.2314943439596"
      ],
      "text/markdown": [
       "19.2314943439596"
      ],
      "text/plain": [
       "[1] 19.23149"
      ]
     },
     "metadata": {},
     "output_type": "display_data"
    }
   ],
   "source": [
    "sd(Turo2$TripsTaken)"
   ]
  },
  {
   "cell_type": "code",
   "execution_count": 59,
   "id": "7b851dd3",
   "metadata": {},
   "outputs": [
    {
     "data": {
      "text/html": [
       "369.850374701751"
      ],
      "text/latex": [
       "369.850374701751"
      ],
      "text/markdown": [
       "369.850374701751"
      ],
      "text/plain": [
       "[1] 369.8504"
      ]
     },
     "metadata": {},
     "output_type": "display_data"
    }
   ],
   "source": [
    "var(Turo2$TripsTaken)"
   ]
  },
  {
   "cell_type": "code",
   "execution_count": 60,
   "id": "f7d69e7e",
   "metadata": {},
   "outputs": [
    {
     "data": {
      "text/html": [
       "10.3782"
      ],
      "text/latex": [
       "10.3782"
      ],
      "text/markdown": [
       "10.3782"
      ],
      "text/plain": [
       "[1] 10.3782"
      ]
     },
     "metadata": {},
     "output_type": "display_data"
    }
   ],
   "source": [
    "mad(Turo2$TripsTaken)"
   ]
  },
  {
   "cell_type": "code",
   "execution_count": 61,
   "id": "789708d1",
   "metadata": {},
   "outputs": [
    {
     "data": {
      "text/html": [
       "118"
      ],
      "text/latex": [
       "118"
      ],
      "text/markdown": [
       "118"
      ],
      "text/plain": [
       "[1] 118"
      ]
     },
     "metadata": {},
     "output_type": "display_data"
    }
   ],
   "source": [
    "max(Turo2$TripsTaken, na.rm = TRUE)"
   ]
  },
  {
   "cell_type": "code",
   "execution_count": 62,
   "id": "2652ce33",
   "metadata": {},
   "outputs": [
    {
     "data": {
      "text/html": [
       "0"
      ],
      "text/latex": [
       "0"
      ],
      "text/markdown": [
       "0"
      ],
      "text/plain": [
       "[1] 0"
      ]
     },
     "metadata": {},
     "output_type": "display_data"
    }
   ],
   "source": [
    "min(Turo2$TripsTaken, na.rm = TRUE)"
   ]
  },
  {
   "cell_type": "code",
   "execution_count": 63,
   "id": "29e14dc3",
   "metadata": {},
   "outputs": [
    {
     "data": {
      "text/html": [
       "7688"
      ],
      "text/latex": [
       "7688"
      ],
      "text/markdown": [
       "7688"
      ],
      "text/plain": [
       "[1] 7688"
      ]
     },
     "metadata": {},
     "output_type": "display_data"
    }
   ],
   "source": [
    "sum(Turo2$TripsTaken)"
   ]
  },
  {
   "cell_type": "markdown",
   "id": "94e3fdec",
   "metadata": {},
   "source": [
    "Testing for Assumptions\n",
    "\n",
    "\n",
    "1. \"What makes the vehicle more successful (more trips taken)?\"\n",
    "\n",
    "Vehicle Type, Vehicle Make, Vehicle Model, Review Count, Ratings, TuroGo, AllStar Host, Avg Daily Price,\n",
    "\n",
    "Distance from Airport, Promotions, Vehicle Year, Monthly Rate, Weekly Rate, and Time Listing Created\n",
    "\n",
    "2. \"Does the average number of trips taken differ by location?\"\n",
    "\n",
    "City, State and Near Airports\n",
    "\n",
    "3. \"Does one kind of car do better in one city over another city?\"\n",
    "\n",
    "City, Vehile Make, Model and Year\n",
    "\n",
    "Categorical Variable - Vehicle Type, Make, Model, Year, Promotion, Discount Savings Text, New Listing, Close to Airport,\n",
    "\n",
    "Review Count, TuroGo2, AllStar Host, City, State and Location Address\n",
    "\n",
    "Continuous Variable - Distance, Rating, Average Daily Price, Monthly Rate, Weekly Rate\n",
    "\n",
    "\n",
    "Testing for Linearity"
   ]
  },
  {
   "cell_type": "code",
   "execution_count": 64,
   "id": "4b3338a2",
   "metadata": {},
   "outputs": [
    {
     "data": {
      "image/png": "[encoded data removed]",
      "text/plain": [
       "Plot with title \"Trips Taken because of  Ratings\""
      ]
     },
     "metadata": {
      "image/png": {
       "height": 420,
       "width": 420
      }
     },
     "output_type": "display_data"
    }
   ],
   "source": [
    "scatter.smooth(x=Turo2$TripsTaken, y=Turo2$Rating, main=\"Trips Taken because of  Ratings\")"
   ]
  },
  {
   "cell_type": "code",
   "execution_count": 65,
   "id": "39236cc1",
   "metadata": {},
   "outputs": [
    {
     "data": {
      "image/png": "[encoded data removed]",
      "text/plain": [
       "Plot with title \"Trips Taken because of the Distance from the Airport \""
      ]
     },
     "metadata": {
      "image/png": {
       "height": 420,
       "width": 420
      }
     },
     "output_type": "display_data"
    }
   ],
   "source": [
    "scatter.smooth(x=Turo2$TripsTaken, y=Turo2$Distance, main=\"Trips Taken because of the Distance from the Airport \")"
   ]
  },
  {
   "cell_type": "code",
   "execution_count": 66,
   "id": "4f4b3f15",
   "metadata": {},
   "outputs": [
    {
     "data": {
      "image/png": "[encoded data removed]",
      "text/plain": [
       "Plot with title \"Trips Taken because of the Average Daily Price\""
      ]
     },
     "metadata": {
      "image/png": {
       "height": 420,
       "width": 420
      }
     },
     "output_type": "display_data"
    }
   ],
   "source": [
    "scatter.smooth(x=Turo2$TripsTaken, y=Turo2$AvgDailyPrice, main=\"Trips Taken because of the Average Daily Price\")"
   ]
  },
  {
   "cell_type": "code",
   "execution_count": 67,
   "id": "f9a269e8",
   "metadata": {},
   "outputs": [
    {
     "data": {
      "image/png": "[encoded data removed]",
      "text/plain": [
       "Plot with title \"Trips Taken because of the Monthly Rate\""
      ]
     },
     "metadata": {
      "image/png": {
       "height": 420,
       "width": 420
      }
     },
     "output_type": "display_data"
    }
   ],
   "source": [
    "scatter.smooth(x=Turo2$TripsTaken, y=Turo2$MonthlyRate, main=\"Trips Taken because of the Monthly Rate\")"
   ]
  },
  {
   "cell_type": "code",
   "execution_count": 68,
   "id": "f78fa842",
   "metadata": {},
   "outputs": [
    {
     "data": {
      "image/png": "[encoded data removed]",
      "text/plain": [
       "Plot with title \"Trips Taken because of the Weekly Rate\""
      ]
     },
     "metadata": {
      "image/png": {
       "height": 420,
       "width": 420
      }
     },
     "output_type": "display_data"
    }
   ],
   "source": [
    "scatter.smooth(x=Turo2$TripsTaken, y=Turo2$WeeklyRate, main=\"Trips Taken because of the Weekly Rate\")"
   ]
  },
  {
   "cell_type": "markdown",
   "id": "e8c4c1ef",
   "metadata": {},
   "source": [
    "Creating Linear Models and Testing for Homoscedasticity"
   ]
  },
  {
   "cell_type": "code",
   "execution_count": 69,
   "id": "b5799428",
   "metadata": {},
   "outputs": [],
   "source": [
    "lmMod <- lm(TripsTaken~Rating, data=Turo2)"
   ]
  },
  {
   "cell_type": "code",
   "execution_count": 70,
   "id": "1d57b513",
   "metadata": {},
   "outputs": [],
   "source": [
    "lmMod1 <- lm(TripsTaken~Distance, data=Turo2)"
   ]
  },
  {
   "cell_type": "code",
   "execution_count": 71,
   "id": "cb71a3a7",
   "metadata": {},
   "outputs": [],
   "source": [
    "lmMod2 <- lm(TripsTaken~AvgDailyPrice, data=Turo2)"
   ]
  },
  {
   "cell_type": "code",
   "execution_count": 72,
   "id": "166214c9",
   "metadata": {},
   "outputs": [],
   "source": [
    "lmMod3 <- lm(TripsTaken~MonthlyRate, data=Turo2)"
   ]
  },
  {
   "cell_type": "code",
   "execution_count": 73,
   "id": "31517b22",
   "metadata": {},
   "outputs": [],
   "source": [
    "lmMod4 <- lm(TripsTaken~WeeklyRate, data=Turo2)"
   ]
  },
  {
   "cell_type": "code",
   "execution_count": 74,
   "id": "fc34eff4",
   "metadata": {},
   "outputs": [
    {
     "data": {
      "image/png": "[encoded data removed]",
      "text/plain": [
       "Plot with title \"\""
      ]
     },
     "metadata": {
      "image/png": {
       "height": 420,
       "width": 420
      }
     },
     "output_type": "display_data"
    }
   ],
   "source": [
    "par(mfrow=c(2,2))\n",
    "plot(lmMod)"
   ]
  },
  {
   "cell_type": "code",
   "execution_count": 75,
   "id": "3ed30888",
   "metadata": {},
   "outputs": [
    {
     "data": {
      "image/png": "[encoded data removed]",
      "text/plain": [
       "Plot with title \"\""
      ]
     },
     "metadata": {
      "image/png": {
       "height": 420,
       "width": 420
      }
     },
     "output_type": "display_data"
    }
   ],
   "source": [
    "par(mfrow=c(2,2))\n",
    "plot(lmMod1)"
   ]
  },
  {
   "cell_type": "code",
   "execution_count": 76,
   "id": "fe86be03",
   "metadata": {},
   "outputs": [
    {
     "data": {
      "image/png": "[encoded data removed]",
      "text/plain": [
       "Plot with title \"\""
      ]
     },
     "metadata": {
      "image/png": {
       "height": 420,
       "width": 420
      }
     },
     "output_type": "display_data"
    }
   ],
   "source": [
    "par(mfrow=c(2,2))\n",
    "plot(lmMod2)"
   ]
  },
  {
   "cell_type": "code",
   "execution_count": 77,
   "id": "449bd7e8",
   "metadata": {},
   "outputs": [
    {
     "data": {
      "image/png": "[encoded data removed]",
      "text/plain": [
       "Plot with title \"\""
      ]
     },
     "metadata": {
      "image/png": {
       "height": 420,
       "width": 420
      }
     },
     "output_type": "display_data"
    }
   ],
   "source": [
    "par(mfrow=c(2,2))\n",
    "plot(lmMod3)"
   ]
  },
  {
   "cell_type": "code",
   "execution_count": 78,
   "id": "f41e0cb9",
   "metadata": {},
   "outputs": [
    {
     "data": {
      "image/png": "[encoded data removed]",
      "text/plain": [
       "Plot with title \"\""
      ]
     },
     "metadata": {
      "image/png": {
       "height": 420,
       "width": 420
      }
     },
     "output_type": "display_data"
    }
   ],
   "source": [
    "par(mfrow=c(2,2))\n",
    "plot(lmMod4)"
   ]
  },
  {
   "cell_type": "code",
   "execution_count": 79,
   "id": "28cf5f1c",
   "metadata": {},
   "outputs": [
    {
     "data": {
      "text/plain": [
       "\n",
       "\tstudentized Breusch-Pagan test\n",
       "\n",
       "data:  lmMod\n",
       "BP = 0.017335, df = 1, p-value = 0.8953\n"
      ]
     },
     "metadata": {},
     "output_type": "display_data"
    }
   ],
   "source": [
    "lmtest::bptest(lmMod)"
   ]
  },
  {
   "cell_type": "code",
   "execution_count": 80,
   "id": "1304bfdc",
   "metadata": {},
   "outputs": [
    {
     "data": {
      "text/plain": [
       "\n",
       "\tstudentized Breusch-Pagan test\n",
       "\n",
       "data:  lmMod1\n",
       "BP = 1.5291, df = 1, p-value = 0.2162\n"
      ]
     },
     "metadata": {},
     "output_type": "display_data"
    }
   ],
   "source": [
    "lmtest::bptest(lmMod1)"
   ]
  },
  {
   "cell_type": "code",
   "execution_count": 81,
   "id": "eb3750fc",
   "metadata": {},
   "outputs": [
    {
     "data": {
      "text/plain": [
       "\n",
       "\tstudentized Breusch-Pagan test\n",
       "\n",
       "data:  lmMod2\n",
       "BP = 25.337, df = 1, p-value = 4.813e-07\n"
      ]
     },
     "metadata": {},
     "output_type": "display_data"
    }
   ],
   "source": [
    "lmtest::bptest(lmMod2)"
   ]
  },
  {
   "cell_type": "code",
   "execution_count": 82,
   "id": "4888e773",
   "metadata": {},
   "outputs": [
    {
     "data": {
      "text/plain": [
       "\n",
       "\tstudentized Breusch-Pagan test\n",
       "\n",
       "data:  lmMod3\n",
       "BP = 1.8198, df = 1, p-value = 0.1773\n"
      ]
     },
     "metadata": {},
     "output_type": "display_data"
    }
   ],
   "source": [
    "lmtest::bptest(lmMod3)"
   ]
  },
  {
   "cell_type": "code",
   "execution_count": 83,
   "id": "2ff58586",
   "metadata": {},
   "outputs": [
    {
     "data": {
      "text/plain": [
       "\n",
       "\tstudentized Breusch-Pagan test\n",
       "\n",
       "data:  lmMod4\n",
       "BP = 0.24232, df = 1, p-value = 0.6225\n"
      ]
     },
     "metadata": {},
     "output_type": "display_data"
    }
   ],
   "source": [
    "lmtest::bptest(lmMod4)"
   ]
  },
  {
   "cell_type": "markdown",
   "id": "283a709f",
   "metadata": {},
   "source": [
    "AvgDailyPrice and MonthlyRate showed significant Breush-Pagan Test because their p-vaules were less than .05 which means we are showing heteroscedasticity"
   ]
  },
  {
   "cell_type": "code",
   "execution_count": 84,
   "id": "1e9a9fb9",
   "metadata": {},
   "outputs": [
    {
     "data": {
      "text/plain": [
       "Non-constant Variance Score Test \n",
       "Variance formula: ~ fitted.values \n",
       "Chisquare = 0.07686058, Df = 1, p = 0.7816"
      ]
     },
     "metadata": {},
     "output_type": "display_data"
    }
   ],
   "source": [
    "car::ncvTest(lmMod)"
   ]
  },
  {
   "cell_type": "code",
   "execution_count": 85,
   "id": "82c862b4",
   "metadata": {},
   "outputs": [
    {
     "data": {
      "text/plain": [
       "Non-constant Variance Score Test \n",
       "Variance formula: ~ fitted.values \n",
       "Chisquare = 8.255109, Df = 1, p = 0.0040637"
      ]
     },
     "metadata": {},
     "output_type": "display_data"
    }
   ],
   "source": [
    "car::ncvTest(lmMod1)"
   ]
  },
  {
   "cell_type": "code",
   "execution_count": 86,
   "id": "f065837a",
   "metadata": {},
   "outputs": [
    {
     "data": {
      "text/plain": [
       "Non-constant Variance Score Test \n",
       "Variance formula: ~ fitted.values \n",
       "Chisquare = 120.8847, Df = 1, p = < 2.22e-16"
      ]
     },
     "metadata": {},
     "output_type": "display_data"
    }
   ],
   "source": [
    "car::ncvTest(lmMod2)"
   ]
  },
  {
   "cell_type": "code",
   "execution_count": 87,
   "id": "12055df1",
   "metadata": {},
   "outputs": [
    {
     "data": {
      "text/plain": [
       "Non-constant Variance Score Test \n",
       "Variance formula: ~ fitted.values \n",
       "Chisquare = 9.935301, Df = 1, p = 0.0016214"
      ]
     },
     "metadata": {},
     "output_type": "display_data"
    }
   ],
   "source": [
    "car::ncvTest(lmMod3)"
   ]
  },
  {
   "cell_type": "code",
   "execution_count": 88,
   "id": "33933eff",
   "metadata": {},
   "outputs": [
    {
     "data": {
      "text/plain": [
       "Non-constant Variance Score Test \n",
       "Variance formula: ~ fitted.values \n",
       "Chisquare = 1.26997, Df = 1, p = 0.25977"
      ]
     },
     "metadata": {},
     "output_type": "display_data"
    }
   ],
   "source": [
    "car::ncvTest(lmMod4)"
   ]
  },
  {
   "cell_type": "markdown",
   "id": "b562e020",
   "metadata": {},
   "source": [
    "AvgDailyPrice and MonthlyRate have a p-value below.003, is showing a third indicator that the data is heteroscedastic and doesn't met the assumption of homoscedasticity\n",
    "\n",
    "Correcting Homoscedasticity Violations"
   ]
  },
  {
   "cell_type": "code",
   "execution_count": 89,
   "id": "e38d5823",
   "metadata": {},
   "outputs": [
    {
     "name": "stdout",
     "output_type": "stream",
     "text": [
      "Box-Cox Transformation\n",
      "\n",
      "546 data points used to estimate Lambda\n",
      "\n",
      "Input data summary:\n",
      "   Min. 1st Qu.  Median    Mean 3rd Qu.    Max. \n",
      "   50.0    86.0   109.0   151.8   157.8  1495.0 \n",
      "\n",
      "Largest/Smallest: 29.9 \n",
      "Sample Skewness: 5.41 \n",
      "\n",
      "Estimated Lambda: -0.9 \n",
      "\n"
     ]
    }
   ],
   "source": [
    "distBCMod1 <- caret::BoxCoxTrans(Turo2$AvgDailyPrice)\n",
    "print(distBCMod1)"
   ]
  },
  {
   "cell_type": "code",
   "execution_count": 90,
   "id": "e058f2c6",
   "metadata": {},
   "outputs": [
    {
     "name": "stdout",
     "output_type": "stream",
     "text": [
      "Box-Cox Transformation\n",
      "\n",
      "546 data points used to estimate Lambda\n",
      "\n",
      "Input data summary:\n",
      "   Min. 1st Qu.  Median    Mean 3rd Qu.    Max. \n",
      " 0.0000  0.1000  0.1800  0.1745  0.3000  0.4200 \n",
      "\n",
      "Lambda could not be estimated; no transformation is applied\n",
      "\n"
     ]
    }
   ],
   "source": [
    "distBCMod1 <- caret::BoxCoxTrans(Turo2$MonthlyRate)\n",
    "print(distBCMod1)"
   ]
  },
  {
   "cell_type": "code",
   "execution_count": 91,
   "id": "22d93648",
   "metadata": {},
   "outputs": [],
   "source": [
    "Turo2 <- cbind(Turo2, dist_newM=predict(distBCMod1, Turo2$AvgDailyPrice))"
   ]
  },
  {
   "cell_type": "code",
   "execution_count": 92,
   "id": "8b49ddbb",
   "metadata": {},
   "outputs": [],
   "source": [
    "Turo2 <- cbind(Turo2, dist_newM=predict(distBCMod1, Turo2$MonthlyRate))"
   ]
  },
  {
   "cell_type": "code",
   "execution_count": 93,
   "id": "8951494a",
   "metadata": {},
   "outputs": [
    {
     "data": {
      "text/plain": [
       "\n",
       "\tstudentized Breusch-Pagan test\n",
       "\n",
       "data:  lmMod_bc2\n",
       "BP = 0.04703, df = 1, p-value = 0.8283\n"
      ]
     },
     "metadata": {},
     "output_type": "display_data"
    }
   ],
   "source": [
    "lmMod_bc2 <- lm(dist_newM~AvgDailyPrice, data=Turo2)\n",
    "lmtest::bptest(lmMod_bc2)"
   ]
  },
  {
   "cell_type": "code",
   "execution_count": 94,
   "id": "933d490a",
   "metadata": {},
   "outputs": [
    {
     "data": {
      "text/plain": [
       "\n",
       "\tstudentized Breusch-Pagan test\n",
       "\n",
       "data:  lmMod_bc2\n",
       "BP = 5.1084, df = 1, p-value = 0.02381\n"
      ]
     },
     "metadata": {},
     "output_type": "display_data"
    }
   ],
   "source": [
    "lmMod_bc2 <- lm(dist_newM~MonthlyRate, data=Turo2)\n",
    "lmtest::bptest(lmMod_bc2)"
   ]
  },
  {
   "cell_type": "markdown",
   "id": "58b9142f",
   "metadata": {},
   "source": [
    "Fixed the Homogeneity of Variance for AvgDailyPrice but MonthlyRate is less than .05\n",
    "\n",
    "Checking for Outliers"
   ]
  },
  {
   "cell_type": "code",
   "execution_count": 95,
   "id": "65d780f4",
   "metadata": {},
   "outputs": [
    {
     "data": {
      "image/png": "[encoded data removed]",
      "text/plain": [
       "Plot with title \"Cook's Distance\""
      ]
     },
     "metadata": {
      "image/png": {
       "height": 420,
       "width": 420
      }
     },
     "output_type": "display_data"
    }
   ],
   "source": [
    " CookD(lmMod, group=NULL, plot=TRUE, idn=3, newwd=FALSE)"
   ]
  },
  {
   "cell_type": "code",
   "execution_count": 96,
   "id": "89a00c50",
   "metadata": {},
   "outputs": [
    {
     "data": {
      "image/png": "[encoded data removed]",
      "text/plain": [
       "Plot with title \"Cook's Distance\""
      ]
     },
     "metadata": {
      "image/png": {
       "height": 420,
       "width": 420
      }
     },
     "output_type": "display_data"
    }
   ],
   "source": [
    " CookD(lmMod1, group=NULL, plot=TRUE, idn=3, newwd=FALSE)"
   ]
  },
  {
   "cell_type": "code",
   "execution_count": 97,
   "id": "bcbd294b",
   "metadata": {},
   "outputs": [
    {
     "data": {
      "image/png": "[encoded data removed]",
      "text/plain": [
       "Plot with title \"Cook's Distance\""
      ]
     },
     "metadata": {
      "image/png": {
       "height": 420,
       "width": 420
      }
     },
     "output_type": "display_data"
    }
   ],
   "source": [
    " CookD(lmMod2, group=NULL, plot=TRUE, idn=3, newwd=FALSE)"
   ]
  },
  {
   "cell_type": "code",
   "execution_count": 98,
   "id": "46cd7ce0",
   "metadata": {},
   "outputs": [
    {
     "data": {
      "image/png": "[encoded data removed]",
      "text/plain": [
       "Plot with title \"Cook's Distance\""
      ]
     },
     "metadata": {
      "image/png": {
       "height": 420,
       "width": 420
      }
     },
     "output_type": "display_data"
    }
   ],
   "source": [
    " CookD(lmMod3, group=NULL, plot=TRUE, idn=3, newwd=FALSE)"
   ]
  },
  {
   "cell_type": "code",
   "execution_count": 99,
   "id": "7408bc52",
   "metadata": {},
   "outputs": [
    {
     "data": {
      "image/png": "[encoded data removed]",
      "text/plain": [
       "Plot with title \"Cook's Distance\""
      ]
     },
     "metadata": {
      "image/png": {
       "height": 420,
       "width": 420
      }
     },
     "output_type": "display_data"
    }
   ],
   "source": [
    " CookD(lmMod4, group=NULL, plot=TRUE, idn=3, newwd=FALSE)"
   ]
  },
  {
   "cell_type": "code",
   "execution_count": 100,
   "id": "5e80f8e9",
   "metadata": {},
   "outputs": [
    {
     "data": {
      "image/png": "[encoded data removed]",
      "text/plain": [
       "plot without title"
      ]
     },
     "metadata": {
      "image/png": {
       "height": 420,
       "width": 420
      }
     },
     "output_type": "display_data"
    }
   ],
   "source": [
    "lev = hat(model.matrix(lmMod))\n",
    "plot(lev)"
   ]
  },
  {
   "cell_type": "code",
   "execution_count": 101,
   "id": "433861e1",
   "metadata": {},
   "outputs": [
    {
     "data": {
      "image/png": "[encoded data removed]",
      "text/plain": [
       "plot without title"
      ]
     },
     "metadata": {
      "image/png": {
       "height": 420,
       "width": 420
      }
     },
     "output_type": "display_data"
    }
   ],
   "source": [
    "lev = hat(model.matrix(lmMod1))\n",
    "plot(lev)"
   ]
  },
  {
   "cell_type": "code",
   "execution_count": 102,
   "id": "6e715ec3",
   "metadata": {},
   "outputs": [
    {
     "data": {
      "image/png": "[encoded data removed]",
      "text/plain": [
       "plot without title"
      ]
     },
     "metadata": {
      "image/png": {
       "height": 420,
       "width": 420
      }
     },
     "output_type": "display_data"
    }
   ],
   "source": [
    "lev = hat(model.matrix(lmMod2))\n",
    "plot(lev)"
   ]
  },
  {
   "cell_type": "code",
   "execution_count": 103,
   "id": "e282f97f",
   "metadata": {},
   "outputs": [
    {
     "data": {
      "image/png": "[encoded data removed]",
      "text/plain": [
       "plot without title"
      ]
     },
     "metadata": {
      "image/png": {
       "height": 420,
       "width": 420
      }
     },
     "output_type": "display_data"
    }
   ],
   "source": [
    "lev = hat(model.matrix(lmMod3))\n",
    "plot(lev)"
   ]
  },
  {
   "cell_type": "code",
   "execution_count": 104,
   "id": "12172a65",
   "metadata": {},
   "outputs": [
    {
     "data": {
      "image/png": "[encoded data removed]",
      "text/plain": [
       "plot without title"
      ]
     },
     "metadata": {
      "image/png": {
       "height": 420,
       "width": 420
      }
     },
     "output_type": "display_data"
    }
   ],
   "source": [
    "lev = hat(model.matrix(lmMod4))\n",
    "plot(lev)"
   ]
  },
  {
   "cell_type": "code",
   "execution_count": 105,
   "id": "8f268b1b",
   "metadata": {},
   "outputs": [
    {
     "data": {
      "text/plain": [
       "    rstudent unadjusted p-value Bonferroni p\n",
       "381 5.080247         5.7422e-07   0.00023658\n",
       "493 5.080247         5.7422e-07   0.00023658\n",
       "77  4.590561         5.8909e-06   0.00242710\n",
       "162 4.590561         5.8909e-06   0.00242710\n",
       "291 4.590561         5.8909e-06   0.00242710\n",
       "366 4.064883         5.7644e-05   0.02374900\n",
       "478 4.064883         5.7644e-05   0.02374900"
      ]
     },
     "metadata": {},
     "output_type": "display_data"
    }
   ],
   "source": [
    "car::outlierTest(lmMod)"
   ]
  },
  {
   "cell_type": "code",
   "execution_count": 106,
   "id": "121eaf11",
   "metadata": {},
   "outputs": [
    {
     "data": {
      "text/plain": [
       "    rstudent unadjusted p-value Bonferroni p\n",
       "381 5.922201         5.6395e-09   3.0792e-06\n",
       "493 5.922201         5.6395e-09   3.0792e-06\n",
       "291 5.082012         5.1460e-07   2.8097e-04\n",
       "162 5.039401         6.3702e-07   3.4781e-04\n",
       "77  5.015127         7.1888e-07   3.9251e-04\n",
       "366 4.461281         9.9084e-06   5.4100e-03\n",
       "478 4.461281         9.9084e-06   5.4100e-03"
      ]
     },
     "metadata": {},
     "output_type": "display_data"
    }
   ],
   "source": [
    "car::outlierTest(lmMod1)"
   ]
  },
  {
   "cell_type": "code",
   "execution_count": null,
   "id": "815d2acf",
   "metadata": {},
   "outputs": [],
   "source": [
    "car::outlierTest(lmMod2)"
   ]
  },
  {
   "cell_type": "code",
   "execution_count": null,
   "id": "d167f5c4",
   "metadata": {},
   "outputs": [],
   "source": [
    "car::outlierTest(lmMod3)"
   ]
  },
  {
   "cell_type": "code",
   "execution_count": null,
   "id": "7c0abad2",
   "metadata": {},
   "outputs": [],
   "source": [
    "car::outlierTest(lmMod4)"
   ]
  },
  {
   "cell_type": "code",
   "execution_count": null,
   "id": "483ae1e5",
   "metadata": {},
   "outputs": [],
   "source": [
    "summary(influence.measures(lmMod))"
   ]
  },
  {
   "cell_type": "code",
   "execution_count": null,
   "id": "7b94cef8",
   "metadata": {},
   "outputs": [],
   "source": [
    "summary(influence.measures(lmMod1))"
   ]
  },
  {
   "cell_type": "code",
   "execution_count": null,
   "id": "cea254ba",
   "metadata": {},
   "outputs": [],
   "source": [
    "summary(influence.measures(lmMod2))"
   ]
  },
  {
   "cell_type": "code",
   "execution_count": null,
   "id": "c0f6b02f",
   "metadata": {},
   "outputs": [],
   "source": [
    "summary(influence.measures(lmMod3))"
   ]
  },
  {
   "cell_type": "code",
   "execution_count": null,
   "id": "c8898624",
   "metadata": {},
   "outputs": [],
   "source": [
    "summary(influence.measures(lmMod4))"
   ]
  },
  {
   "cell_type": "markdown",
   "id": "ec4953b8",
   "metadata": {},
   "source": [
    "There are problems with outliers because in the columns named dfb.1_ and dffit there are values greater than 1"
   ]
  },
  {
   "cell_type": "code",
   "execution_count": null,
   "id": "6f3b7cb9",
   "metadata": {},
   "outputs": [],
   "source": []
  }
 ],
 "metadata": {
  "kernelspec": {
   "display_name": "R",
   "language": "R",
   "name": "ir"
  },
  "language_info": {
   "codemirror_mode": "r",
   "file_extension": ".r",
   "mimetype": "text/x-r-source",
   "name": "R",
   "pygments_lexer": "r",
   "version": "4.2.0"
  }
 },
 "nbformat": 4,
 "nbformat_minor": 5
}
